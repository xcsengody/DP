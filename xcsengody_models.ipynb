{
  "nbformat": 4,
  "nbformat_minor": 0,
  "metadata": {
    "colab": {
      "name": "xcsengody_models.ipynb",
      "provenance": [],
      "collapsed_sections": [],
      "machine_shape": "hm",
      "include_colab_link": true
    },
    "kernelspec": {
      "name": "python3",
      "display_name": "Python 3"
    }
  },
  "cells": [
    {
      "cell_type": "markdown",
      "metadata": {
        "id": "view-in-github",
        "colab_type": "text"
      },
      "source": [
        "<a href=\"https://colab.research.google.com/github/xcsengody/DP/blob/master/xcsengody_models.ipynb\" target=\"_parent\"><img src=\"https://colab.research.google.com/assets/colab-badge.svg\" alt=\"Open In Colab\"/></a>"
      ]
    },
    {
      "cell_type": "code",
      "metadata": {
        "id": "ffXLxJ7g5Bkc",
        "colab_type": "code",
        "outputId": "3ddf7ffb-2e5c-4c5c-8d0e-6a09f132ab70",
        "colab": {
          "base_uri": "https://localhost:8080/",
          "height": 122
        }
      },
      "source": [
        "from google.colab import drive\n",
        "drive.mount('/content/drive',force_remount=True)\n",
        "root='/content/drive/My Drive/DP/'"
      ],
      "execution_count": 1,
      "outputs": [
        {
          "output_type": "stream",
          "text": [
            "Go to this URL in a browser: https://accounts.google.com/o/oauth2/auth?client_id=947318989803-6bn6qk8qdgf4n4g3pfee6491hc0brc4i.apps.googleusercontent.com&redirect_uri=urn%3aietf%3awg%3aoauth%3a2.0%3aoob&response_type=code&scope=email%20https%3a%2f%2fwww.googleapis.com%2fauth%2fdocs.test%20https%3a%2f%2fwww.googleapis.com%2fauth%2fdrive%20https%3a%2f%2fwww.googleapis.com%2fauth%2fdrive.photos.readonly%20https%3a%2f%2fwww.googleapis.com%2fauth%2fpeopleapi.readonly\n",
            "\n",
            "Enter your authorization code:\n",
            "··········\n",
            "Mounted at /content/drive\n"
          ],
          "name": "stdout"
        }
      ]
    },
    {
      "cell_type": "code",
      "metadata": {
        "id": "S4wXQuD36yV2",
        "colab_type": "code",
        "outputId": "402bd8fe-bcef-4ec8-8267-8d7665b6d110",
        "colab": {
          "base_uri": "https://localhost:8080/",
          "height": 71
        }
      },
      "source": [
        "import pandas as pd\n",
        "import numpy as np\n",
        "import matplotlib.pyplot as plt \n",
        "import seaborn as sns\n",
        "import pylab as pl\n",
        "from pylab import rcParams\n",
        "from collections import Counter\n",
        "from imblearn.pipeline import make_pipeline\n",
        "from imblearn.over_sampling import (SMOTE,SVMSMOTE,ADASYN)"
      ],
      "execution_count": 2,
      "outputs": [
        {
          "output_type": "stream",
          "text": [
            "/usr/local/lib/python3.6/dist-packages/sklearn/externals/six.py:31: DeprecationWarning: The module is deprecated in version 0.21 and will be removed in version 0.23 since we've dropped support for Python 2.7. Please rely on the official version of six (https://pypi.org/project/six/).\n",
            "  \"(https://pypi.org/project/six/).\", DeprecationWarning)\n"
          ],
          "name": "stderr"
        }
      ]
    },
    {
      "cell_type": "code",
      "metadata": {
        "id": "688pyI_v58ET",
        "colab_type": "code",
        "colab": {
          "base_uri": "https://localhost:8080/",
          "height": 71
        },
        "outputId": "8089cb22-fab7-4f0f-df00-9d9a4534b757"
      },
      "source": [
        "from sklearn.ensemble import RandomForestClassifier\n",
        "from sklearn.tree import DecisionTreeClassifier\n",
        "from sklearn.neighbors import KNeighborsClassifier\n",
        "from sklearn.svm import SVC\n",
        "from sklearn.model_selection import RandomizedSearchCV\n",
        "from sklearn.model_selection import GridSearchCV\n",
        "from sklearn.model_selection import train_test_split\n",
        "from sklearn.feature_selection import SelectFromModel\n",
        "from sklearn.preprocessing import StandardScaler\n",
        "from sklearn.utils import class_weight\n",
        "from sklearn import metrics\n",
        "from pprint import pprint\n",
        "from sklearn.metrics import confusion_matrix\n",
        "from sklearn.metrics import accuracy_score\n",
        "from sklearn.metrics import classification_report\n",
        "from sklearn.metrics import roc_curve \n",
        "from sklearn.metrics import roc_auc_score\n",
        "from sklearn.model_selection import StratifiedKFold\n",
        "from sklearn.model_selection import cross_val_score\n",
        "from sklearn.externals import joblib"
      ],
      "execution_count": 3,
      "outputs": [
        {
          "output_type": "stream",
          "text": [
            "/usr/local/lib/python3.6/dist-packages/sklearn/externals/joblib/__init__.py:15: DeprecationWarning: sklearn.externals.joblib is deprecated in 0.21 and will be removed in 0.23. Please import this functionality directly from joblib, which can be installed with: pip install joblib. If this warning is raised when loading pickled models, you may need to re-serialize those models with scikit-learn 0.21+.\n",
            "  warnings.warn(msg, category=DeprecationWarning)\n"
          ],
          "name": "stderr"
        }
      ]
    },
    {
      "cell_type": "code",
      "metadata": {
        "id": "5A-plfcB7FLb",
        "colab_type": "code",
        "colab": {}
      },
      "source": [
        "def plot_roc_curve(fpr, tpr):  \n",
        "  plt.plot(fpr, tpr, color='orange', label='ROC')\n",
        "  plt.plot([0, 1], [0, 1], color='darkblue', linestyle='--')\n",
        "  plt.xlabel('False Positive Rate')\n",
        "  plt.ylabel('True Positive Rate')\n",
        "  plt.title('Receiver Operating Characteristic (ROC) Curve')\n",
        "  plt.legend()\n",
        "  plt.show()\n",
        "\n",
        "def predict(clf, X, y):\n",
        "  prediction = clf.predict(X)\n",
        "\n",
        "  accuracy = accuracy_score(y, prediction)\n",
        "  print(\"Accuracy: %.2f%%\" % (accuracy * 100.0))\n",
        "\n",
        "  score = metrics.accuracy_score(y, prediction, normalized=False)\n",
        "  print(score)\n",
        "\n",
        "  print(\"\\nClassification Report\\n {}\\n\".format(classification_report(y, prediction)))\n",
        "\n",
        "  print(\"\\nConfusion-matrix\\n {}\\n\".format(pd.crosstab(y, prediction, rownames=['Actual Species'], colnames=['Predicted Species'])))\n",
        "\n",
        "  # ROC-AUC for binary class model performance evaluation\n",
        "  proba = clf.predict_proba(X)\n",
        "  proba = [p[1] for p in proba]\n",
        "  print(\"\\nROC-AUC: {}\\n\".format(roc_auc_score(y, proba)))\n",
        "  \n",
        "  fpr, tpr, thresholds = roc_curve(y.values, proba)\n",
        "  plot_roc_curve(fpr, tpr)\n",
        "  \n",
        "\n",
        "  #score = metrics.f1_score(y_test, prediction, average=None)\n",
        "  #print(\"F1 score: {}\".format(score))\n",
        "\n",
        "  #cv = cross_val_score(clf, X_train, y_train, cv=10, scoring='roc_auc')\n",
        "  #print(\"Standard Cross-validation accuracy: %f (+/- %f)\" % (cv.mean(), (cv.std()*2)))\n",
        "\n",
        "  #skfold = StratifiedKFold(n_splits=10)\n",
        "\n",
        "  #skfold_cv = cross_val_score(clf, X_train, y_train, cv=skfold, scoring='roc_auc')\n",
        "  #print(\"Stratified K-fold Cross-validation accuracy of train set: %f (+/- %f)\\n\" % (skfold_cv.mean(), (skfold_cv.std()*2)))\n",
        "\n",
        "  #skfold_cv = cross_val_score(clf, X_valid, y_valid, cv=skfold, scoring='roc_auc')\n",
        "  #print(\"Stratified K-fold Cross-validation accuracy of validation set: %f (+/- %f)\\n\" % (skfold_cv.mean(), (skfold_cv.std()*2)))\n",
        "\n",
        "  # Confusion-matrix usually used to evaluate the performance of a multiclass model.\n",
        "  #conf_mat = confusion_matrix(y_test, prediction)\n",
        "  #sns.heatmap(conf_mat,annot=True)\n",
        "  #plt.title(\"Confusion-matrix\")\n",
        "  #plt.figure(figsize=(20,20))\n",
        "  #plt.show()"
      ],
      "execution_count": 0,
      "outputs": []
    },
    {
      "cell_type": "code",
      "metadata": {
        "id": "eXc1V0MU5Z_Z",
        "colab_type": "code",
        "colab": {}
      },
      "source": [
        "pd.set_option('display.max_rows', 500);\n",
        "pd.set_option('display.max_columns', None);\n",
        "rcParams['figure.figsize'] = 15, 8;\n",
        "sns.set(style=\"whitegrid\");"
      ],
      "execution_count": 0,
      "outputs": []
    },
    {
      "cell_type": "code",
      "metadata": {
        "id": "AdUyYyKH5DLG",
        "colab_type": "code",
        "colab": {}
      },
      "source": [
        "#dataset=dataset.reset_index();\n",
        "#dataset=dataset.set_index('index');\n",
        "\n",
        "#joblib.dump(clf, 'randomforestmodel.sav')\n",
        "#clf = joblib.load(root+'/Model/randomforestmodel_bin.sav')"
      ],
      "execution_count": 0,
      "outputs": []
    },
    {
      "cell_type": "code",
      "metadata": {
        "id": "bVZSFDa6_us6",
        "colab_type": "code",
        "colab": {}
      },
      "source": [
        "train_dataset_path= root+\"Dataset/dataset_4.csv\";\n",
        "valid_dataset_path= root+\"Dataset/dataset_1.csv\";"
      ],
      "execution_count": 0,
      "outputs": []
    },
    {
      "cell_type": "code",
      "metadata": {
        "id": "IS3Q3zwe5nie",
        "colab_type": "code",
        "outputId": "f5608fe1-ea3f-4602-c34d-d8079cabe454",
        "colab": {
          "base_uri": "https://localhost:8080/",
          "height": 68
        }
      },
      "source": [
        "dataset_valid = pd.read_csv(valid_dataset_path, delimiter=',', encoding='utf-8', low_memory=False, skipinitialspace=True, skip_blank_lines=True, verbose=True);\n",
        "del dataset_valid[\"Unnamed: 0\"]"
      ],
      "execution_count": 8,
      "outputs": [
        {
          "output_type": "stream",
          "text": [
            "Tokenization took: 10522.79 ms\n",
            "Type conversion took: 13726.11 ms\n",
            "Parser memory cleanup took: 50.14 ms\n"
          ],
          "name": "stdout"
        }
      ]
    },
    {
      "cell_type": "code",
      "metadata": {
        "id": "AuKh8zzb0CUg",
        "colab_type": "code",
        "outputId": "9cbc6175-938f-410c-f7a8-668578e707de",
        "colab": {
          "base_uri": "https://localhost:8080/",
          "height": 51
        }
      },
      "source": [
        "print(\"Number of rows: {}\\nNumber of features: {}\".format(dataset_valid.shape[0],dataset_valid.shape[1]))"
      ],
      "execution_count": 9,
      "outputs": [
        {
          "output_type": "stream",
          "text": [
            "Number of rows: 699984\n",
            "Number of features: 58\n"
          ],
          "name": "stdout"
        }
      ]
    },
    {
      "cell_type": "code",
      "metadata": {
        "id": "wSpxn1Zkz6S9",
        "colab_type": "code",
        "outputId": "b9aa1e08-0b57-4246-c814-439faa608950",
        "colab": {
          "base_uri": "https://localhost:8080/",
          "height": 68
        }
      },
      "source": [
        "dataset_train = pd.read_csv(train_dataset_path, delimiter=',', encoding='utf-8', low_memory=False, skipinitialspace=True, skip_blank_lines=True, verbose=True);\n",
        "del dataset_train[\"Unnamed: 0\"]"
      ],
      "execution_count": 10,
      "outputs": [
        {
          "output_type": "stream",
          "text": [
            "Tokenization took: 5367.27 ms\n",
            "Type conversion took: 7500.81 ms\n",
            "Parser memory cleanup took: 19.70 ms\n"
          ],
          "name": "stdout"
        }
      ]
    },
    {
      "cell_type": "code",
      "metadata": {
        "id": "KYtwlOy85ta3",
        "colab_type": "code",
        "outputId": "b27aabda-6739-4a48-f0b4-8551a318d574",
        "colab": {
          "base_uri": "https://localhost:8080/",
          "height": 51
        }
      },
      "source": [
        "print(\"Number of rows: {}\\nNumber of features: {}\".format(dataset_train.shape[0],dataset_train.shape[1]))"
      ],
      "execution_count": 11,
      "outputs": [
        {
          "output_type": "stream",
          "text": [
            "Number of rows: 440042\n",
            "Number of features: 58\n"
          ],
          "name": "stdout"
        }
      ]
    },
    {
      "cell_type": "code",
      "metadata": {
        "id": "Ap_vhrws6_Je",
        "colab_type": "code",
        "outputId": "1859b37d-0f78-4d1f-bbaa-9e24057ef1f3",
        "colab": {
          "base_uri": "https://localhost:8080/",
          "height": 68
        }
      },
      "source": [
        "y = dataset_train.attack_cat.apply(lambda x: 1 if x>0 else x)\n",
        "X = dataset_train.drop('attack_cat', axis=1)\n",
        "\n",
        "X_train, X_test, y_train, y_test = train_test_split(X, y, test_size = 0.3, random_state = 0)\n",
        "\n",
        "y_valid = dataset_valid.attack_cat.apply(lambda x: 1 if x>0 else x)\n",
        "X_valid = dataset_valid.drop('attack_cat', axis=1)\n",
        "\n",
        "print(\"Train set size: {}\\nTest set size: {}\\nValidation set size: {}\".format(X_train.shape[0],X_test.shape[0],X_valid.shape[0]))\n",
        "\n",
        "class_weights_arr = class_weight.compute_class_weight('balanced',np.unique(y_train),y_train)\n",
        "class_weights = {};\n",
        "\n",
        "i=0\n",
        "for cw in class_weights_arr:\n",
        "  class_weights[i] = cw;\n",
        "  i+=1"
      ],
      "execution_count": 12,
      "outputs": [
        {
          "output_type": "stream",
          "text": [
            "Train set size: 308029\n",
            "Test set size: 132013\n",
            "Validation set size: 699984\n"
          ],
          "name": "stdout"
        }
      ]
    },
    {
      "cell_type": "code",
      "metadata": {
        "id": "SeOb8m5V0uTx",
        "colab_type": "code",
        "outputId": "dfddf8ca-65b1-4000-e003-3f691ff8c635",
        "colab": {
          "base_uri": "https://localhost:8080/",
          "height": 119
        }
      },
      "source": [
        "n_estimators = [int(x) for x in np.linspace(start = 10, stop = 100, num = 10)]\n",
        "max_features = ['auto', 'sqrt', 'log2']\n",
        "max_depth = [int(x) for x in np.linspace(10, 100, num = 10)]\n",
        "max_depth.append(None)\n",
        "min_samples_split = [5, 10, 15, 20]\n",
        "min_samples_leaf = [2, 4, 6, 8, 10]\n",
        "bootstrap = [True, False]\n",
        "\n",
        "random_grid = {'n_estimators': n_estimators,\n",
        "               'max_features': max_features,\n",
        "               'max_depth': max_depth,\n",
        "               'min_samples_split': min_samples_split,\n",
        "               'min_samples_leaf': min_samples_leaf,\n",
        "               'bootstrap': bootstrap}\n",
        "\n",
        "pprint(random_grid)"
      ],
      "execution_count": 13,
      "outputs": [
        {
          "output_type": "stream",
          "text": [
            "{'bootstrap': [True, False],\n",
            " 'max_depth': [10, 20, 30, 40, 50, 60, 70, 80, 90, 100, None],\n",
            " 'max_features': ['auto', 'sqrt', 'log2'],\n",
            " 'min_samples_leaf': [2, 4, 6, 8, 10],\n",
            " 'min_samples_split': [5, 10, 15, 20],\n",
            " 'n_estimators': [10, 20, 30, 40, 50, 60, 70, 80, 90, 100]}\n"
          ],
          "name": "stdout"
        }
      ]
    },
    {
      "cell_type": "code",
      "metadata": {
        "id": "yagSL6Jk4uiR",
        "colab_type": "code",
        "colab": {}
      },
      "source": [
        "model = RandomForestClassifier()\n",
        "random_search = RandomizedSearchCV(estimator = model, param_distributions = random_grid, n_iter = 5, cv = 10, verbose = 2)\n",
        "randomRorest_randomSearch = random_search.fit(X_train, y_train)\n",
        "joblib.dump(randomRorest_randomSearch, 'randomForest_randomSearch.sav')\n",
        "\n",
        "print(\"\\nParameters:\")\n",
        "pprint(randomRorest_randomSearch.get_params())\n",
        "\n",
        "predict(randomRorest_randomSearch, X_valid, y_valid)"
      ],
      "execution_count": 0,
      "outputs": []
    },
    {
      "cell_type": "code",
      "metadata": {
        "id": "e5Nr03FFBtWJ",
        "colab_type": "code",
        "colab": {}
      },
      "source": [
        "params = {'n_estimators': [10, 15, 20, 25, 30, 40, 50],\n",
        "          'max_features': ['auto'],\n",
        "          'max_depth': [None],\n",
        "          'min_samples_split': [2, 4, 6, 8, 10],\n",
        "          'min_samples_leaf': [1, 2, 3, 4, 5, 6],\n",
        "          'bootstrap': [True],\n",
        "          'random_state': [None]}\n",
        "\n",
        "model = RandomForestClassifier()\n",
        "grid_search = GridSearchCV(estimator = model, param_grid = params, cv = 10, verbose = 2)\n",
        "randomRorest_gridSearch = grid_search.fit(X_train, y_train)\n",
        "joblib.dump(randomRorest_gridSearch, 'randomForest_gridSearch.sav')\n",
        "\n",
        "print(\"\\nParameters:\")\n",
        "pprint(randomRorest_gridSearch.get_params())\n",
        "\n",
        "predict(randomRorest_gridSearch, X_valid, y_valid)"
      ],
      "execution_count": 0,
      "outputs": []
    },
    {
      "cell_type": "code",
      "metadata": {
        "id": "AACLgHmi-CaM",
        "colab_type": "code",
        "colab": {}
      },
      "source": [
        "model = RandomForestClassifier()\n",
        "randomForest_basic = randomForest.fit(X_train, y_train)\n",
        "joblib.dump(randomForest_basic, 'randomForest_basic.sav')\n",
        "\n",
        "print(\"\\nParameters:\")\n",
        "pprint(randomForest_basic.get_params())\n",
        "\n",
        "predict(randomForest_basic, X_valid, y_valid)"
      ],
      "execution_count": 0,
      "outputs": []
    },
    {
      "cell_type": "code",
      "metadata": {
        "id": "I_rBA6267PeS",
        "colab_type": "code",
        "colab": {}
      },
      "source": [
        "randomForest = RandomForestClassifier(class_weight=class_weights, n_estimators=len(Counter(Y)), criterion='entropy', random_state=0, n_jobs=len(Counter(Y)), max_depth=None, bootstrap=False)\n",
        "\n",
        "selected_features = SelectFromModel(randomForest)\n",
        "selected_features.fit(X_train, y_train)\n",
        "\n",
        "features = X_train.columns[(selected_features.get_support())]\n",
        "print(\"Selected features: {}\".format(features))\n",
        "\n",
        "X_train_important_features = selected_features.transform(X_train)\n",
        "X_test_important_features = selected_features.transform(X_test)"
      ],
      "execution_count": 0,
      "outputs": []
    }
  ]
}
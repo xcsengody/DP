{
  "nbformat": 4,
  "nbformat_minor": 0,
  "metadata": {
    "colab": {
      "name": "xcsengody_models.ipynb",
      "provenance": [],
      "collapsed_sections": [],
      "include_colab_link": true
    },
    "kernelspec": {
      "name": "python3",
      "display_name": "Python 3"
    }
  },
  "cells": [
    {
      "cell_type": "markdown",
      "metadata": {
        "id": "view-in-github",
        "colab_type": "text"
      },
      "source": [
        "<a href=\"https://colab.research.google.com/github/xcsengody/DP/blob/master/xcsengody_models.ipynb\" target=\"_parent\"><img src=\"https://colab.research.google.com/assets/colab-badge.svg\" alt=\"Open In Colab\"/></a>"
      ]
    },
    {
      "cell_type": "code",
      "metadata": {
        "id": "ffXLxJ7g5Bkc",
        "colab_type": "code",
        "colab": {
          "base_uri": "https://localhost:8080/",
          "height": 122
        },
        "outputId": "2cc6f4f2-5fd3-4fbd-cc62-f50e0f2b8924"
      },
      "source": [
        "from google.colab import drive\n",
        "drive.mount('/content/drive',force_remount=True)\n",
        "root='/content/drive/My Drive/DP/'"
      ],
      "execution_count": 1,
      "outputs": [
        {
          "output_type": "stream",
          "text": [
            "Go to this URL in a browser: https://accounts.google.com/o/oauth2/auth?client_id=947318989803-6bn6qk8qdgf4n4g3pfee6491hc0brc4i.apps.googleusercontent.com&redirect_uri=urn%3aietf%3awg%3aoauth%3a2.0%3aoob&response_type=code&scope=email%20https%3a%2f%2fwww.googleapis.com%2fauth%2fdocs.test%20https%3a%2f%2fwww.googleapis.com%2fauth%2fdrive%20https%3a%2f%2fwww.googleapis.com%2fauth%2fdrive.photos.readonly%20https%3a%2f%2fwww.googleapis.com%2fauth%2fpeopleapi.readonly\n",
            "\n",
            "Enter your authorization code:\n",
            "··········\n",
            "Mounted at /content/drive\n"
          ],
          "name": "stdout"
        }
      ]
    },
    {
      "cell_type": "code",
      "metadata": {
        "id": "688pyI_v58ET",
        "colab_type": "code",
        "colab": {}
      },
      "source": [
        "from sklearn.ensemble import RandomForestClassifier\n",
        "from sklearn.model_selection import train_test_split\n",
        "from sklearn.feature_selection import SelectFromModel\n",
        "from sklearn.utils import class_weight\n",
        "from sklearn import metrics\n",
        "from sklearn.metrics import confusion_matrix\n",
        "from sklearn.metrics import accuracy_score\n",
        "from sklearn.metrics import classification_report\n",
        "from sklearn.metrics import roc_auc_score\n",
        "from sklearn.model_selection import StratifiedKFold\n",
        "from sklearn.model_selection import cross_val_score\n",
        "from sklearn.externals import joblib"
      ],
      "execution_count": 0,
      "outputs": []
    },
    {
      "cell_type": "code",
      "metadata": {
        "id": "eXc1V0MU5Z_Z",
        "colab_type": "code",
        "colab": {}
      },
      "source": [
        "pd.set_option('display.max_rows', 500);\n",
        "pd.set_option('display.max_columns', None);\n",
        "rcParams['figure.figsize'] = 15, 8;\n",
        "sns.set(style=\"whitegrid\");"
      ],
      "execution_count": 0,
      "outputs": []
    },
    {
      "cell_type": "code",
      "metadata": {
        "id": "M6AqDGv65g7h",
        "colab_type": "code",
        "colab": {}
      },
      "source": [
        "path = root+\"Dataset/NUSW-NB15_features.csv\";\n",
        "df = pd.read_csv(path, delimiter=',', encoding='unicode_escape', low_memory=False, skipinitialspace=True, skip_blank_lines=True, verbose=True);\n",
        "features = df.Name"
      ],
      "execution_count": 0,
      "outputs": []
    },
    {
      "cell_type": "code",
      "metadata": {
        "id": "IS3Q3zwe5nie",
        "colab_type": "code",
        "colab": {}
      },
      "source": [
        "#dataset=dataset.reset_index();\n",
        "#dataset=dataset.set_index('index');\n",
        "\n",
        "path = root+\"Dataset/dataset.csv\";\n",
        "dataset = pd.read_csv(path, index=False, delimiter=',', encoding='utf-8', low_memory=False, skipinitialspace=True, skip_blank_lines=True, verbose=True);\n",
        "#del dataset[\"Unnamed: 0\"]"
      ],
      "execution_count": 0,
      "outputs": []
    },
    {
      "cell_type": "code",
      "metadata": {
        "id": "Sotz1AIo5v6r",
        "colab_type": "code",
        "colab": {}
      },
      "source": [
        "dataset.head()"
      ],
      "execution_count": 0,
      "outputs": []
    },
    {
      "cell_type": "code",
      "metadata": {
        "id": "KYtwlOy85ta3",
        "colab_type": "code",
        "colab": {}
      },
      "source": [
        "print(\"Number of rows: {}\\nNumber of features: {}\".format(dataset.shape[0],dataset.shape[1]))"
      ],
      "execution_count": 0,
      "outputs": []
    },
    {
      "cell_type": "code",
      "metadata": {
        "id": "DSNegAg-54ei",
        "colab_type": "code",
        "colab": {}
      },
      "source": [
        "X = dataset.drop('attack_cat', axis=1)\n",
        "Y = dataset.attack_cat\n",
        "\n",
        "print(X.shape, Y.shape)"
      ],
      "execution_count": 0,
      "outputs": []
    },
    {
      "cell_type": "code",
      "metadata": {
        "id": "Ltku26-U6F-j",
        "colab_type": "code",
        "colab": {}
      },
      "source": [
        "print(\"Original dataset categories shape {}\".format(sorted(Counter(Y).items())))\n",
        "\n",
        "pipe = make_pipeline(SMOTE(sampling_strategy='auto',random_state=41,n_jobs=5), ADASYN(sampling_strategy='auto',random_state=41,n_jobs=5))\n",
        "X_resampled, Y_resampled = pipe.fit_resample(X,Y)\n",
        "\n",
        "X_resampled_df = pd.DataFrame(X_resampled, columns=X.columns)\n",
        "resampled_dataset = X_resampled_df.assign(attack_cat=pd.Series(Y_resampled))\n",
        "\n",
        "print(X_resampled.shape, Y_resampled.shape)\n",
        "print(\"Original dataset categories shape {}\".format(sorted(Counter(Y).items())))\n",
        "print(\"Resampled dataset categories shape {}\".format(sorted(Counter(Y_resampled).items())))"
      ],
      "execution_count": 0,
      "outputs": []
    }
  ]
}
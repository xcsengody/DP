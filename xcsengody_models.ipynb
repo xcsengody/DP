{
  "nbformat": 4,
  "nbformat_minor": 0,
  "metadata": {
    "colab": {
      "name": "xcsengody_models.ipynb",
      "provenance": [],
      "collapsed_sections": [],
      "include_colab_link": true
    },
    "kernelspec": {
      "name": "python3",
      "display_name": "Python 3"
    }
  },
  "cells": [
    {
      "cell_type": "markdown",
      "metadata": {
        "id": "view-in-github",
        "colab_type": "text"
      },
      "source": [
        "<a href=\"https://colab.research.google.com/github/xcsengody/DP/blob/master/xcsengody_models.ipynb\" target=\"_parent\"><img src=\"https://colab.research.google.com/assets/colab-badge.svg\" alt=\"Open In Colab\"/></a>"
      ]
    },
    {
      "cell_type": "code",
      "metadata": {
        "id": "ffXLxJ7g5Bkc",
        "colab_type": "code",
        "colab": {
          "base_uri": "https://localhost:8080/",
          "height": 34
        },
        "outputId": "fe0b0209-abc3-497d-ee7a-ae7d9cf872a1"
      },
      "source": [
        "from google.colab import drive\n",
        "drive.mount('/content/drive',force_remount=True)\n",
        "root='/content/drive/My Drive/DP/'"
      ],
      "execution_count": 2,
      "outputs": [
        {
          "output_type": "stream",
          "text": [
            "Mounted at /content/drive\n"
          ],
          "name": "stdout"
        }
      ]
    },
    {
      "cell_type": "code",
      "metadata": {
        "id": "S4wXQuD36yV2",
        "colab_type": "code",
        "colab": {}
      },
      "source": [
        "import pandas as pd\n",
        "import numpy as np\n",
        "import matplotlib.pyplot as plt \n",
        "import seaborn as sns\n",
        "import pylab as pl\n",
        "from pylab import rcParams\n",
        "from collections import Counter\n",
        "from imblearn.pipeline import make_pipeline\n",
        "from imblearn.over_sampling import (SMOTE,SVMSMOTE,ADASYN)"
      ],
      "execution_count": 0,
      "outputs": []
    },
    {
      "cell_type": "code",
      "metadata": {
        "id": "688pyI_v58ET",
        "colab_type": "code",
        "colab": {
          "base_uri": "https://localhost:8080/",
          "height": 71
        },
        "outputId": "b430062e-3572-401c-a464-6998fdba840f"
      },
      "source": [
        "from sklearn.ensemble import RandomForestClassifier\n",
        "from sklearn.model_selection import train_test_split\n",
        "from sklearn.feature_selection import SelectFromModel\n",
        "from sklearn.utils import class_weight\n",
        "from sklearn import metrics\n",
        "from sklearn.metrics import confusion_matrix\n",
        "from sklearn.metrics import accuracy_score\n",
        "from sklearn.metrics import classification_report\n",
        "from sklearn.metrics import roc_auc_score\n",
        "from sklearn.model_selection import StratifiedKFold\n",
        "from sklearn.model_selection import cross_val_score\n",
        "from sklearn.externals import joblib"
      ],
      "execution_count": 4,
      "outputs": [
        {
          "output_type": "stream",
          "text": [
            "/usr/local/lib/python3.6/dist-packages/sklearn/externals/joblib/__init__.py:15: DeprecationWarning: sklearn.externals.joblib is deprecated in 0.21 and will be removed in 0.23. Please import this functionality directly from joblib, which can be installed with: pip install joblib. If this warning is raised when loading pickled models, you may need to re-serialize those models with scikit-learn 0.21+.\n",
            "  warnings.warn(msg, category=DeprecationWarning)\n"
          ],
          "name": "stderr"
        }
      ]
    },
    {
      "cell_type": "code",
      "metadata": {
        "id": "5A-plfcB7FLb",
        "colab_type": "code",
        "colab": {}
      },
      "source": [
        "def predict(clf, X_train, y_train, X_test, y_test, bin):\n",
        "  prediction = clf.predict(X_test)\n",
        "\n",
        "  accuracy = accuracy_score(y_test, prediction)\n",
        "  print(\"Accuracy: %.2f%%\" % (accuracy * 100.0))\n",
        "\n",
        "  score = metrics.accuracy_score(y_test, prediction)\n",
        "\n",
        "  score = metrics.f1_score(y_test, prediction, average=None)\n",
        "  print(\"F1 score: {}\".format(score))\n",
        "\n",
        "  print(\"\\nClassification Report\")\n",
        "  classification_report(y_test, prediction)\n",
        "\n",
        "  if bin:\n",
        "    cv = cross_val_score(randomForest, X_train, y_train, cv=10, scoring='roc_auc')\n",
        "    print(\"Standard Cross-validation accuracy: %f (+/- %f)\" % (cv.mean(), (cv.std()*2)))\n",
        "\n",
        "    skfold = StratifiedKFold(n_splits=10)\n",
        "    skfold_cv = cross_val_score(randomForest, X_train, y_train, cv=skfold, scoring='roc_auc')\n",
        "    print(\"Stratified K-fold Cross-validation accuracy: %f (+/- %f)\" % (skfold_cv.mean(), (skfold_cv.std()*2)))\n",
        " \n",
        "  print(\"Confusion-matrix\")\n",
        "  pd.crosstab(y_test, prediction, rownames=['Actual Species'], colnames=['Predicted Species'])\n",
        "\n",
        "  # Confusion-matrix usually used to evaluate the performance of a multiclass model.\n",
        "  conf_mat = confusion_matrix(y_test, prediction)\n",
        "  #sns.heatmap(conf_mat,annot=True)\n",
        "  #plt.title(\"Confusion-matrix\")\n",
        "  #plt.figure(figsize=(20,20))\n",
        "  #plt.show()\n",
        "\n",
        "  if bin:\n",
        "    # ROC-AUC for binary class model performance evaluation\n",
        "    proba = clf.predict_proba(X_test)\n",
        "    proba = [p[1] for p in proba]\n",
        "    print(\"ROC-AUC: {}\".format(roc_auc_score(y_test, proba)))"
      ],
      "execution_count": 0,
      "outputs": []
    },
    {
      "cell_type": "code",
      "metadata": {
        "id": "eXc1V0MU5Z_Z",
        "colab_type": "code",
        "colab": {}
      },
      "source": [
        "pd.set_option('display.max_rows', 500);\n",
        "pd.set_option('display.max_columns', None);\n",
        "rcParams['figure.figsize'] = 15, 8;\n",
        "sns.set(style=\"whitegrid\");"
      ],
      "execution_count": 0,
      "outputs": []
    },
    {
      "cell_type": "code",
      "metadata": {
        "id": "M6AqDGv65g7h",
        "colab_type": "code",
        "colab": {
          "base_uri": "https://localhost:8080/",
          "height": 68
        },
        "outputId": "e7f84523-747c-4a1f-91ab-78384ab55918"
      },
      "source": [
        "path = root+\"Dataset/NUSW-NB15_features.csv\";\n",
        "df = pd.read_csv(path, delimiter=',', encoding='unicode_escape', low_memory=False, skipinitialspace=True, skip_blank_lines=True, verbose=True);\n",
        "features = df.Name"
      ],
      "execution_count": 7,
      "outputs": [
        {
          "output_type": "stream",
          "text": [
            "Tokenization took: 0.06 ms\n",
            "Type conversion took: 1.34 ms\n",
            "Parser memory cleanup took: 0.01 ms\n"
          ],
          "name": "stdout"
        }
      ]
    },
    {
      "cell_type": "code",
      "metadata": {
        "id": "IS3Q3zwe5nie",
        "colab_type": "code",
        "colab": {
          "base_uri": "https://localhost:8080/",
          "height": 68
        },
        "outputId": "a550a125-cfe6-4a84-9ad2-b3977f5d1fc2"
      },
      "source": [
        "#dataset=dataset.reset_index();\n",
        "#dataset=dataset.set_index('index');\n",
        "\n",
        "path = root+\"Dataset/dataset.csv\";\n",
        "dataset = pd.read_csv(path, delimiter=',', encoding='utf-8', low_memory=False, skipinitialspace=True, skip_blank_lines=True, verbose=True);\n",
        "del dataset[\"Unnamed: 0\"]"
      ],
      "execution_count": 9,
      "outputs": [
        {
          "output_type": "stream",
          "text": [
            "Tokenization took: 15280.69 ms\n",
            "Type conversion took: 13923.18 ms\n",
            "Parser memory cleanup took: 60.11 ms\n"
          ],
          "name": "stdout"
        }
      ]
    },
    {
      "cell_type": "code",
      "metadata": {
        "id": "KYtwlOy85ta3",
        "colab_type": "code",
        "colab": {
          "base_uri": "https://localhost:8080/",
          "height": 51
        },
        "outputId": "a187fa72-7c4e-40cd-f740-0156c66800e4"
      },
      "source": [
        "print(\"Number of rows: {}\\nNumber of features: {}\".format(dataset.shape[0],dataset.shape[1]))"
      ],
      "execution_count": 12,
      "outputs": [
        {
          "output_type": "stream",
          "text": [
            "Number of rows: 699984\n",
            "Number of features: 58\n"
          ],
          "name": "stdout"
        }
      ]
    },
    {
      "cell_type": "code",
      "metadata": {
        "id": "DSNegAg-54ei",
        "colab_type": "code",
        "colab": {
          "base_uri": "https://localhost:8080/",
          "height": 34
        },
        "outputId": "2cf33eb3-245a-4c0c-fdb5-9567bbe2fa62"
      },
      "source": [
        "X = dataset.drop('attack_cat', axis=1)\n",
        "Y = dataset.attack_cat\n",
        "\n",
        "print(X.shape, Y.shape)"
      ],
      "execution_count": 13,
      "outputs": [
        {
          "output_type": "stream",
          "text": [
            "(699984, 57) (699984,)\n"
          ],
          "name": "stdout"
        }
      ]
    },
    {
      "cell_type": "code",
      "metadata": {
        "id": "Ltku26-U6F-j",
        "colab_type": "code",
        "colab": {}
      },
      "source": [
        "print(\"Original dataset categories shape {}\".format(sorted(Counter(Y).items())))\n",
        "\n",
        "pipe = make_pipeline(SMOTE(sampling_strategy='auto',random_state=41,n_jobs=5), ADASYN(sampling_strategy='auto',random_state=41,n_jobs=5))\n",
        "X_resampled, Y_resampled = pipe.fit_resample(X,Y)\n",
        "\n",
        "X_resampled_df = pd.DataFrame(X_resampled, columns=X.columns)\n",
        "resampled_dataset = X_resampled_df.assign(attack_cat=pd.Series(Y_resampled))\n",
        "\n",
        "print(\"Resampled dataset categories shape {}\".format(sorted(Counter(Y_resampled).items())))"
      ],
      "execution_count": 0,
      "outputs": []
    },
    {
      "cell_type": "code",
      "metadata": {
        "id": "Ap_vhrws6_Je",
        "colab_type": "code",
        "colab": {}
      },
      "source": [
        "#y = resampled_dataset.attack_cat\n",
        "y = resampled_dataset.attack_cat.apply(lambda x: 1 if x>0 else x)\n",
        "X = resampled_dataset.drop('attack_cat', axis=1)\n",
        "\n",
        "# Dataset without resampling\n",
        "#y = dataset.attack_cat.apply(lambda x: 1 if x>0 else x)\n",
        "#X = dataset.drop('attack_cat', axis=1)\n",
        "\n",
        "X_train, X_test, y_train, y_test = train_test_split(X, y, test_size = 0.3, random_state = 21)\n",
        "\n",
        "class_weights_arr = class_weight.compute_class_weight('balanced',np.unique(y_train),y_train)\n",
        "class_weights = {};\n",
        "\n",
        "i=0\n",
        "for cw in class_weights_arr:\n",
        "  class_weights[i] = cw;\n",
        "  i+=1"
      ],
      "execution_count": 0,
      "outputs": []
    },
    {
      "cell_type": "code",
      "metadata": {
        "id": "GIjprOju7B4R",
        "colab_type": "code",
        "colab": {}
      },
      "source": [
        "randomForest = RandomForestClassifier(class_weight=class_weights, n_estimators=len(Counter(Y)), criterion='entropy', random_state=0, n_jobs=len(Counter(Y)), max_depth=None, bootstrap=False)"
      ],
      "execution_count": 0,
      "outputs": []
    },
    {
      "cell_type": "code",
      "metadata": {
        "id": "bDgdHlWb7rj1",
        "colab_type": "code",
        "colab": {}
      },
      "source": [
        "clf = joblib.load(root+'/Model/randomforestmodel_bin.sav')"
      ],
      "execution_count": 0,
      "outputs": []
    },
    {
      "cell_type": "code",
      "metadata": {
        "id": "g5cvrA2-9e4g",
        "colab_type": "code",
        "colab": {}
      },
      "source": [
        "predict(clf, X_train, y_train, X, Y, False)"
      ],
      "execution_count": 0,
      "outputs": []
    },
    {
      "cell_type": "code",
      "metadata": {
        "id": "XNc7nwtq9WJu",
        "colab_type": "code",
        "colab": {}
      },
      "source": [
        "# --------------------------------------"
      ],
      "execution_count": 0,
      "outputs": []
    },
    {
      "cell_type": "code",
      "metadata": {
        "id": "BcMPvZFy7MBl",
        "colab_type": "code",
        "colab": {}
      },
      "source": [
        "clf = randomForest.fit(X_train, y_train)\n",
        "joblib.dump(clf, 'randomforestmodel.sav')"
      ],
      "execution_count": 0,
      "outputs": []
    },
    {
      "cell_type": "code",
      "metadata": {
        "id": "0kP7DBms7N2o",
        "colab_type": "code",
        "colab": {}
      },
      "source": [
        "clf_bin = randomForest.fit(X_train, y_train)\n",
        "clf = clf_bin\n",
        "joblib.dump(clf_bin, 'randomforestmodel_bin.sav')"
      ],
      "execution_count": 0,
      "outputs": []
    },
    {
      "cell_type": "code",
      "metadata": {
        "id": "I_rBA6267PeS",
        "colab_type": "code",
        "colab": {}
      },
      "source": [
        "selected_features = SelectFromModel(randomForest)\n",
        "selected_features.fit(X_train, y_train)\n",
        "\n",
        "features = X_train.columns[(selected_features.get_support())]\n",
        "print(\"Selected features: {}\".format(features))\n",
        "\n",
        "X_train_important_features = selected_features.transform(X_train)\n",
        "X_test_important_features = selected_features.transform(X_test)\n",
        "\n",
        "clf_important_features = randomForest.fit(X_train_important_features, y_train)\n",
        "clf = clf_important_features\n",
        "joblib.dump(clf_important_features, 'randomforestmodel_imp_feat.sav')"
      ],
      "execution_count": 0,
      "outputs": []
    }
  ]
}
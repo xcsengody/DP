{
  "nbformat": 4,
  "nbformat_minor": 0,
  "metadata": {
    "colab": {
      "name": "xcsengody_models.ipynb",
      "provenance": [],
      "collapsed_sections": [],
      "machine_shape": "hm",
      "include_colab_link": true
    },
    "kernelspec": {
      "name": "python3",
      "display_name": "Python 3"
    }
  },
  "cells": [
    {
      "cell_type": "markdown",
      "metadata": {
        "id": "view-in-github",
        "colab_type": "text"
      },
      "source": [
        "<a href=\"https://colab.research.google.com/github/xcsengody/DP/blob/master/xcsengody_models.ipynb\" target=\"_parent\"><img src=\"https://colab.research.google.com/assets/colab-badge.svg\" alt=\"Open In Colab\"/></a>"
      ]
    },
    {
      "cell_type": "code",
      "metadata": {
        "id": "ffXLxJ7g5Bkc",
        "colab_type": "code",
        "outputId": "d80e74fc-cf9e-49be-8638-e182affdbed5",
        "colab": {
          "base_uri": "https://localhost:8080/",
          "height": 34
        }
      },
      "source": [
        "from google.colab import drive\n",
        "drive.mount('/content/drive',force_remount=True)\n",
        "root='/content/drive/My Drive/DP/'"
      ],
      "execution_count": 3,
      "outputs": [
        {
          "output_type": "stream",
          "text": [
            "Mounted at /content/drive\n"
          ],
          "name": "stdout"
        }
      ]
    },
    {
      "cell_type": "code",
      "metadata": {
        "id": "gphDcxguAbbt",
        "colab_type": "code",
        "colab": {}
      },
      "source": [
        "!pip -q install parfit"
      ],
      "execution_count": 0,
      "outputs": []
    },
    {
      "cell_type": "code",
      "metadata": {
        "id": "S4wXQuD36yV2",
        "colab_type": "code",
        "outputId": "4f700cb1-4b1c-4dfe-ea73-3941e11f8f82",
        "colab": {
          "base_uri": "https://localhost:8080/",
          "height": 71
        }
      },
      "source": [
        "import pandas as pd\n",
        "import numpy as np\n",
        "import matplotlib.pyplot as plt \n",
        "import seaborn as sns\n",
        "import pylab as pl\n",
        "from pylab import rcParams\n",
        "from collections import Counter\n",
        "from imblearn.pipeline import make_pipeline\n",
        "from imblearn.over_sampling import (SMOTE,SVMSMOTE,ADASYN)"
      ],
      "execution_count": 5,
      "outputs": [
        {
          "output_type": "stream",
          "text": [
            "/usr/local/lib/python3.6/dist-packages/sklearn/externals/six.py:31: DeprecationWarning: The module is deprecated in version 0.21 and will be removed in version 0.23 since we've dropped support for Python 2.7. Please rely on the official version of six (https://pypi.org/project/six/).\n",
            "  \"(https://pypi.org/project/six/).\", DeprecationWarning)\n"
          ],
          "name": "stderr"
        }
      ]
    },
    {
      "cell_type": "code",
      "metadata": {
        "id": "688pyI_v58ET",
        "colab_type": "code",
        "colab": {}
      },
      "source": [
        "from sklearn.ensemble import RandomForestClassifier\n",
        "from sklearn.tree import DecisionTreeClassifier\n",
        "from sklearn.linear_model import LogisticRegression\n",
        "import statsmodels.api as sm\n",
        "from sklearn.feature_selection import RFE\n",
        "import parfit.parfit as pf\n",
        "from sklearn.svm import LinearSVC\n",
        "from sklearn import linear_model\n",
        "from sklearn.model_selection import ParameterGrid\n",
        "from sklearn.kernel_approximation import Nystroem\n",
        "from sklearn.model_selection import (train_test_split,RandomizedSearchCV, GridSearchCV)\n",
        "from sklearn.feature_selection import SelectFromModel\n",
        "from sklearn.preprocessing import StandardScaler\n",
        "from sklearn.utils import class_weight\n",
        "from sklearn import metrics\n",
        "from pprint import pprint\n",
        "from sklearn.metrics import (roc_curve, auc, roc_auc_score, accuracy_score, classification_report, confusion_matrix)\n",
        "from sklearn.model_selection import StratifiedKFold\n",
        "from sklearn.model_selection import cross_val_score\n",
        "from sklearn.externals import joblib"
      ],
      "execution_count": 0,
      "outputs": []
    },
    {
      "cell_type": "code",
      "metadata": {
        "id": "5A-plfcB7FLb",
        "colab_type": "code",
        "colab": {}
      },
      "source": [
        "def plot_roc_curve(fpr, tpr):  \n",
        "  plt.plot(fpr, tpr, color='orange', label='ROC')\n",
        "  plt.plot([0, 1], [0, 1], color='darkblue', linestyle='--')\n",
        "  plt.xlabel('False Positive Rate')\n",
        "  plt.ylabel('True Positive Rate')\n",
        "  plt.title('Receiver Operating Characteristic (ROC) Curve')\n",
        "  plt.legend()\n",
        "  plt.show()\n",
        "\n",
        "def predict(clf, X, y):\n",
        "  prediction = clf.predict(X)\n",
        "\n",
        "  accuracy = accuracy_score(y, prediction)\n",
        "  print(\"Accuracy: %.2f%%\" % (accuracy * 100.0))\n",
        "\n",
        "  print(\"\\nClassification Report\\n {}\\n\".format(classification_report(y, prediction)))\n",
        "\n",
        "  print(\"\\nConfusion-matrix\\n {}\\n\".format(pd.crosstab(y, prediction, rownames=['Actual Species'], colnames=['Predicted Species'])))\n",
        "\n",
        "  # ROC-AUC for binary class model performance evaluation\n",
        "  proba = clf.predict_proba(X)\n",
        "  proba = [p[1] for p in proba]\n",
        "  print(\"\\nROC-AUC: {}\\n\".format(roc_auc_score(y, proba)))\n",
        "  \n",
        "  fpr, tpr, thresholds = roc_curve(y.values, proba)\n",
        "  plot_roc_curve(fpr, tpr)\n",
        "  \n",
        "\n",
        "  #score = metrics.f1_score(y_test, prediction, average=None)\n",
        "  #print(\"F1 score: {}\".format(score))\n",
        "\n",
        "  #cv = cross_val_score(clf, X_train, y_train, cv=10, scoring='roc_auc')\n",
        "  #print(\"Standard Cross-validation accuracy: %f (+/- %f)\" % (cv.mean(), (cv.std()*2)))\n",
        "\n",
        "  #skfold = StratifiedKFold(n_splits=10)\n",
        "\n",
        "  #skfold_cv = cross_val_score(clf, X_train, y_train, cv=skfold, scoring='roc_auc')\n",
        "  #print(\"Stratified K-fold Cross-validation accuracy of train set: %f (+/- %f)\\n\" % (skfold_cv.mean(), (skfold_cv.std()*2)))\n",
        "\n",
        "  #skfold_cv = cross_val_score(clf, X_valid, y_valid, cv=skfold, scoring='roc_auc')\n",
        "  #print(\"Stratified K-fold Cross-validation accuracy of validation set: %f (+/- %f)\\n\" % (skfold_cv.mean(), (skfold_cv.std()*2)))\n",
        "\n",
        "  # Confusion-matrix usually used to evaluate the performance of a multiclass model.\n",
        "  #conf_mat = confusion_matrix(y_test, prediction)\n",
        "  #sns.heatmap(conf_mat,annot=True)\n",
        "  #plt.title(\"Confusion-matrix\")\n",
        "  #plt.figure(figsize=(20,20))\n",
        "  #plt.show()"
      ],
      "execution_count": 0,
      "outputs": []
    },
    {
      "cell_type": "code",
      "metadata": {
        "id": "eXc1V0MU5Z_Z",
        "colab_type": "code",
        "colab": {}
      },
      "source": [
        "pd.set_option('display.max_rows', 500);\n",
        "pd.set_option('display.max_columns', None);\n",
        "rcParams['figure.figsize'] = 15, 8;\n",
        "sns.set(style=\"whitegrid\");"
      ],
      "execution_count": 0,
      "outputs": []
    },
    {
      "cell_type": "code",
      "metadata": {
        "id": "AdUyYyKH5DLG",
        "colab_type": "code",
        "colab": {}
      },
      "source": [
        "#dataset=dataset.reset_index();\n",
        "#dataset=dataset.set_index('index');\n",
        "\n",
        "#joblib.dump(clf, 'randomforestmodel.sav')\n",
        "#clf = joblib.load(root+'/Model/randomforestmodel_bin.sav')"
      ],
      "execution_count": 0,
      "outputs": []
    },
    {
      "cell_type": "code",
      "metadata": {
        "id": "bVZSFDa6_us6",
        "colab_type": "code",
        "colab": {}
      },
      "source": [
        "train_dataset_path= root+\"Dataset/dataset_4.csv\";\n",
        "valid_dataset_path= root+\"Dataset/dataset_1.csv\";"
      ],
      "execution_count": 0,
      "outputs": []
    },
    {
      "cell_type": "code",
      "metadata": {
        "id": "IS3Q3zwe5nie",
        "colab_type": "code",
        "outputId": "522f16a5-56a0-46c0-d5ec-866010c6291e",
        "colab": {
          "base_uri": "https://localhost:8080/",
          "height": 68
        }
      },
      "source": [
        "dataset_valid = pd.read_csv(valid_dataset_path, delimiter=',', encoding='utf-8', low_memory=False, skipinitialspace=True, skip_blank_lines=True, verbose=True);\n",
        "del dataset_valid[\"Unnamed: 0\"]"
      ],
      "execution_count": 11,
      "outputs": [
        {
          "output_type": "stream",
          "text": [
            "Tokenization took: 10111.82 ms\n",
            "Type conversion took: 11984.53 ms\n",
            "Parser memory cleanup took: 76.75 ms\n"
          ],
          "name": "stdout"
        }
      ]
    },
    {
      "cell_type": "code",
      "metadata": {
        "id": "AuKh8zzb0CUg",
        "colab_type": "code",
        "outputId": "1dae56e4-9b4f-4a99-808b-9e7e1cd06b3f",
        "colab": {
          "base_uri": "https://localhost:8080/",
          "height": 51
        }
      },
      "source": [
        "print(\"Number of rows: {}\\nNumber of features: {}\".format(dataset_valid.shape[0],dataset_valid.shape[1]))"
      ],
      "execution_count": 12,
      "outputs": [
        {
          "output_type": "stream",
          "text": [
            "Number of rows: 699984\n",
            "Number of features: 58\n"
          ],
          "name": "stdout"
        }
      ]
    },
    {
      "cell_type": "code",
      "metadata": {
        "id": "wSpxn1Zkz6S9",
        "colab_type": "code",
        "outputId": "e3c7e713-a13a-47ff-86b5-a1682bcfdb13",
        "colab": {
          "base_uri": "https://localhost:8080/",
          "height": 68
        }
      },
      "source": [
        "dataset_train = pd.read_csv(train_dataset_path, delimiter=',', encoding='utf-8', low_memory=False, skipinitialspace=True, skip_blank_lines=True, verbose=True);\n",
        "del dataset_train[\"Unnamed: 0\"]"
      ],
      "execution_count": 13,
      "outputs": [
        {
          "output_type": "stream",
          "text": [
            "Tokenization took: 4294.43 ms\n",
            "Type conversion took: 7484.31 ms\n",
            "Parser memory cleanup took: 36.99 ms\n"
          ],
          "name": "stdout"
        }
      ]
    },
    {
      "cell_type": "code",
      "metadata": {
        "id": "KYtwlOy85ta3",
        "colab_type": "code",
        "outputId": "24fe7f00-c7ee-4a1a-94a4-e2f1b523ceb2",
        "colab": {
          "base_uri": "https://localhost:8080/",
          "height": 51
        }
      },
      "source": [
        "print(\"Number of rows: {}\\nNumber of features: {}\".format(dataset_train.shape[0],dataset_train.shape[1]))"
      ],
      "execution_count": 14,
      "outputs": [
        {
          "output_type": "stream",
          "text": [
            "Number of rows: 440042\n",
            "Number of features: 58\n"
          ],
          "name": "stdout"
        }
      ]
    },
    {
      "cell_type": "code",
      "metadata": {
        "id": "Ap_vhrws6_Je",
        "colab_type": "code",
        "outputId": "1cee39da-438b-4830-b07a-a613d4536979",
        "colab": {
          "base_uri": "https://localhost:8080/",
          "height": 68
        }
      },
      "source": [
        "y = dataset_train.attack_cat.apply(lambda x: 1 if x>0 else x)\n",
        "X = dataset_train.drop('attack_cat', axis=1)\n",
        "\n",
        "X_train, X_test, y_train, y_test = train_test_split(X, y, test_size = 0.3, random_state = 0)\n",
        "\n",
        "y_valid = dataset_valid.attack_cat.apply(lambda x: 1 if x>0 else x)\n",
        "X_valid = dataset_valid.drop('attack_cat', axis=1)\n",
        "\n",
        "print(\"Train set size: {}\\nTest set size: {}\\nValidation set size: {}\".format(X_train.shape[0],X_test.shape[0],X_valid.shape[0]))\n",
        "\n",
        "class_weights_arr = class_weight.compute_class_weight('balanced',np.unique(y_train),y_train)\n",
        "class_weights = {};\n",
        "\n",
        "i=0\n",
        "for cw in class_weights_arr:\n",
        "  class_weights[i] = cw;\n",
        "  i+=1"
      ],
      "execution_count": 15,
      "outputs": [
        {
          "output_type": "stream",
          "text": [
            "Train set size: 308029\n",
            "Test set size: 132013\n",
            "Validation set size: 699984\n"
          ],
          "name": "stdout"
        }
      ]
    },
    {
      "cell_type": "code",
      "metadata": {
        "id": "9Sxnzc9MnweE",
        "colab_type": "code",
        "outputId": "7512ddc8-e038-4e07-d218-c7e44d6c698d",
        "colab": {
          "base_uri": "https://localhost:8080/",
          "height": 360
        }
      },
      "source": [
        "logisticRegression_model = LogisticRegression()\n",
        "rfe = RFE(logisticRegression_model, n_features_to_select=None, step=8, verbose=2)\n",
        "logisticRegression = rfe.fit(X_train, y_train)\n",
        "\n",
        "print(rfe.support_)"
      ],
      "execution_count": 14,
      "outputs": [
        {
          "output_type": "stream",
          "text": [
            "Fitting estimator with 57 features.\n"
          ],
          "name": "stdout"
        },
        {
          "output_type": "stream",
          "text": [
            "/usr/local/lib/python3.6/dist-packages/sklearn/linear_model/logistic.py:432: FutureWarning: Default solver will be changed to 'lbfgs' in 0.22. Specify a solver to silence this warning.\n",
            "  FutureWarning)\n"
          ],
          "name": "stderr"
        },
        {
          "output_type": "stream",
          "text": [
            "Fitting estimator with 49 features.\n"
          ],
          "name": "stdout"
        },
        {
          "output_type": "stream",
          "text": [
            "/usr/local/lib/python3.6/dist-packages/sklearn/linear_model/logistic.py:432: FutureWarning: Default solver will be changed to 'lbfgs' in 0.22. Specify a solver to silence this warning.\n",
            "  FutureWarning)\n"
          ],
          "name": "stderr"
        },
        {
          "output_type": "stream",
          "text": [
            "Fitting estimator with 41 features.\n"
          ],
          "name": "stdout"
        },
        {
          "output_type": "stream",
          "text": [
            "/usr/local/lib/python3.6/dist-packages/sklearn/linear_model/logistic.py:432: FutureWarning: Default solver will be changed to 'lbfgs' in 0.22. Specify a solver to silence this warning.\n",
            "  FutureWarning)\n"
          ],
          "name": "stderr"
        },
        {
          "output_type": "stream",
          "text": [
            "Fitting estimator with 33 features.\n"
          ],
          "name": "stdout"
        },
        {
          "output_type": "stream",
          "text": [
            "/usr/local/lib/python3.6/dist-packages/sklearn/linear_model/logistic.py:432: FutureWarning: Default solver will be changed to 'lbfgs' in 0.22. Specify a solver to silence this warning.\n",
            "  FutureWarning)\n",
            "/usr/local/lib/python3.6/dist-packages/sklearn/linear_model/logistic.py:432: FutureWarning: Default solver will be changed to 'lbfgs' in 0.22. Specify a solver to silence this warning.\n",
            "  FutureWarning)\n"
          ],
          "name": "stderr"
        },
        {
          "output_type": "stream",
          "text": [
            "[False False  True False False  True  True False False  True  True  True\n",
            " False  True False  True  True False  True  True False False False  True\n",
            " False False False  True False False False  True False  True False False\n",
            "  True False  True  True False  True False False False  True  True  True\n",
            "  True  True  True  True False  True False  True False]\n"
          ],
          "name": "stdout"
        }
      ]
    },
    {
      "cell_type": "code",
      "metadata": {
        "id": "wOqeVUCBp1mD",
        "colab_type": "code",
        "colab": {
          "base_uri": "https://localhost:8080/",
          "height": 493
        },
        "outputId": "4c8ac5f2-e703-4ae1-90a5-382d5d2c5cd4"
      },
      "source": [
        "selected_columns=[]\n",
        "columns = X_train.columns\n",
        "ranked_columns = rfe.support_\n",
        "\n",
        "for i in range(len(ranked_columns)):\n",
        "  if ranked_columns[i] == True:\n",
        "    selected_columns.append(columns[i])\n",
        "\n",
        "selected_columns"
      ],
      "execution_count": 15,
      "outputs": [
        {
          "output_type": "execute_result",
          "data": {
            "text/plain": [
              "['dsport',\n",
              " 'proto',\n",
              " 'state',\n",
              " 'dbytes',\n",
              " 'sttl',\n",
              " 'dttl',\n",
              " 'dloss',\n",
              " 'Dload',\n",
              " 'Spkts',\n",
              " 'swin',\n",
              " 'dwin',\n",
              " 'dmeansz',\n",
              " 'Djit',\n",
              " 'Dintpkt',\n",
              " 'synack',\n",
              " 'ct_state_ttl',\n",
              " 'is_ftp_login',\n",
              " 'ct_ftp_cmd',\n",
              " 'ct_srv_dst',\n",
              " 'ct_dst_sport_ltm',\n",
              " 'ct_dst_src_ltm',\n",
              " 'srciploc_AU',\n",
              " 'srciploc_JP',\n",
              " 'srciploc_KP',\n",
              " 'srciploc_Private',\n",
              " 'dstiploc_AU',\n",
              " 'dstiploc_KP',\n",
              " 'dstiploc_Private']"
            ]
          },
          "metadata": {
            "tags": []
          },
          "execution_count": 15
        }
      ]
    },
    {
      "cell_type": "code",
      "metadata": {
        "id": "jGDjX38RpZj_",
        "colab_type": "code",
        "outputId": "0839a25a-d541-49cc-a32d-e9038ca0768a",
        "colab": {
          "base_uri": "https://localhost:8080/",
          "height": 969
        }
      },
      "source": [
        "X_train_logreg=X_train[selected_columns]\n",
        "\n",
        "logisticRegression_model=sm.Logit(y_train,X_train_logreg)\n",
        "logisticRegression=logisticRegression_model.fit()\n",
        "print(logisticRegression.summary2())"
      ],
      "execution_count": 16,
      "outputs": [
        {
          "output_type": "stream",
          "text": [
            "Optimization terminated successfully.\n",
            "         Current function value: 0.030466\n",
            "         Iterations 17\n"
          ],
          "name": "stdout"
        },
        {
          "output_type": "stream",
          "text": [
            "/usr/local/lib/python3.6/dist-packages/statsmodels/base/model.py:1286: RuntimeWarning: invalid value encountered in sqrt\n",
            "  bse_ = np.sqrt(np.diag(self.cov_params()))\n",
            "/usr/local/lib/python3.6/dist-packages/statsmodels/base/model.py:1294: RuntimeWarning: divide by zero encountered in true_divide\n",
            "  return self.params / self.bse\n",
            "/usr/local/lib/python3.6/dist-packages/scipy/stats/_distn_infrastructure.py:901: RuntimeWarning: invalid value encountered in greater\n",
            "  return (a < x) & (x < b)\n",
            "/usr/local/lib/python3.6/dist-packages/scipy/stats/_distn_infrastructure.py:901: RuntimeWarning: invalid value encountered in less\n",
            "  return (a < x) & (x < b)\n",
            "/usr/local/lib/python3.6/dist-packages/scipy/stats/_distn_infrastructure.py:1892: RuntimeWarning: invalid value encountered in less_equal\n",
            "  cond2 = cond0 & (x <= _a)\n"
          ],
          "name": "stderr"
        },
        {
          "output_type": "stream",
          "text": [
            "                                Results: Logit\n",
            "===============================================================================\n",
            "Model:                   Logit                Pseudo R-squared:     0.939      \n",
            "Dependent Variable:      attack_cat           AIC:                  18820.5983 \n",
            "Date:                    2019-11-28 15:52     BIC:                  19097.1849 \n",
            "No. Observations:        308029               Log-Likelihood:       -9384.3    \n",
            "Df Model:                25                   LL-Null:              -1.5479e+05\n",
            "Df Residuals:            308003               LLR p-value:          0.0000     \n",
            "Converged:               1.0000               Scale:                1.0000     \n",
            "No. Iterations:          17.0000                                               \n",
            "-------------------------------------------------------------------------------\n",
            "                  Coef.    Std.Err.     z     P>|z|      [0.025       0.975]   \n",
            "-------------------------------------------------------------------------------\n",
            "dsport            1.0314      0.0725  14.2288 0.0000        0.8893       1.1734\n",
            "proto            72.7866         nan      nan    nan           nan          nan\n",
            "state            -5.1293      0.7738  -6.6286 0.0000       -6.6459      -3.6126\n",
            "dbytes           -3.3818      0.2347 -14.4099 0.0000       -3.8417      -2.9218\n",
            "sttl              0.2681      0.0333   8.0556 0.0000        0.2029       0.3333\n",
            "dttl              1.0077         nan      nan    nan           nan          nan\n",
            "dloss             2.9628      0.2861  10.3564 0.0000        2.4021       3.5235\n",
            "Dload             0.5933      0.2494   2.3791 0.0174        0.1045       1.0820\n",
            "Spkts             0.7634      0.0724  10.5428 0.0000        0.6214       0.9053\n",
            "swin             -4.2413      2.5765  -1.6461 0.0997       -9.2911       0.8086\n",
            "dwin             -1.4525      1.6800  -0.8646 0.3873       -4.7453       1.8402\n",
            "dmeansz           2.3800      0.1585  15.0111 0.0000        2.0692       2.6907\n",
            "Djit              0.4704      0.0405  11.6222 0.0000        0.3910       0.5497\n",
            "Dintpkt          -0.6653      0.0683  -9.7407 0.0000       -0.7991      -0.5314\n",
            "synack           -0.5544      0.0229 -24.2149 0.0000       -0.5993      -0.5095\n",
            "ct_state_ttl      1.8519      0.2893   6.4008 0.0000        1.2848       2.4189\n",
            "is_ftp_login     -0.5561         nan      nan    nan           nan          nan\n",
            "ct_ftp_cmd       -0.5561         nan      nan    nan           nan          nan\n",
            "ct_srv_dst       -1.7823      0.1628 -10.9482 0.0000       -2.1014      -1.4633\n",
            "ct_dst_sport_ltm 10.2357         nan      nan    nan           nan          nan\n",
            "ct_dst_src_ltm    1.0839      0.1667   6.5009 0.0000        0.7571       1.4106\n",
            "srciploc_AU       4.7945 387024.3161   0.0000 1.0000  -758548.9263  758558.5153\n",
            "srciploc_JP      -5.0951 512398.1723  -0.0000 1.0000 -1004287.0585 1004276.8684\n",
            "srciploc_KP       1.4989 437878.3600   0.0000 1.0000  -858224.3162  858227.3140\n",
            "srciploc_Private  1.2143  81332.6862   0.0000 1.0000  -159407.9214  159410.3501\n",
            "dstiploc_AU      13.5535      9.7276   1.3933 0.1635       -5.5123      32.6192\n",
            "dstiploc_KP      -5.6102     11.9729  -0.4686 0.6394      -29.0768      17.8563\n",
            "dstiploc_Private -4.0684      0.0000     -inf 0.0000       -4.0684      -4.0684\n",
            "===============================================================================\n",
            "\n"
          ],
          "name": "stdout"
        }
      ]
    },
    {
      "cell_type": "code",
      "metadata": {
        "id": "QfU9bqmhr3-J",
        "colab_type": "code",
        "colab": {
          "base_uri": "https://localhost:8080/",
          "height": 680
        },
        "outputId": "9bae91b1-831f-40c3-e6df-fb5e99fb567c"
      },
      "source": [
        "selected_columns=['dsport', 'proto', 'state', 'dbytes', 'sttl', 'dttl', 'dloss', 'Dload',\n",
        "                  'Spkts', 'swin', 'dmeansz', 'Djit', 'Dintpkt', 'synack',\n",
        "                  'ct_state_ttl', 'ct_srv_dst','is_ftp_login',\n",
        "                  'ct_dst_sport_ltm', 'ct_dst_src_ltm', 'dstiploc_AU', 'dstiploc_KP']\n",
        "\n",
        "X_train_logreg=X_train[selected_columns]\n",
        "X_valid_logreg=X_valid[selected_columns]\n",
        "\n",
        "logisticRegression_model=sm.Logit(y_train,X_train_logreg)\n",
        "logisticRegression=logisticRegression_model.fit()\n",
        "print(logisticRegression.summary2())"
      ],
      "execution_count": 19,
      "outputs": [
        {
          "output_type": "stream",
          "text": [
            "Optimization terminated successfully.\n",
            "         Current function value: 0.035145\n",
            "         Iterations 17\n",
            "                           Results: Logit\n",
            "====================================================================\n",
            "Model:                Logit            Pseudo R-squared: 0.930      \n",
            "Dependent Variable:   attack_cat       AIC:              21693.2659 \n",
            "Date:                 2019-11-28 15:56 BIC:              21916.6628 \n",
            "No. Observations:     308029           Log-Likelihood:   -10826.    \n",
            "Df Model:             20               LL-Null:          -1.5479e+05\n",
            "Df Residuals:         308008           LLR p-value:      0.0000     \n",
            "Converged:            1.0000           Scale:            1.0000     \n",
            "No. Iterations:       17.0000                                       \n",
            "--------------------------------------------------------------------\n",
            "                  Coef.   Std.Err.    z     P>|z|   [0.025   0.975] \n",
            "--------------------------------------------------------------------\n",
            "dsport             0.3401   0.0326  10.4256 0.0000   0.2761   0.4040\n",
            "proto            158.0445   3.5809  44.1357 0.0000 151.0261 165.0629\n",
            "state             -9.3474   0.2493 -37.4940 0.0000  -9.8360  -8.8588\n",
            "dbytes            -3.6314   0.1690 -21.4820 0.0000  -3.9627  -3.3001\n",
            "sttl               0.9248   0.0245  37.7098 0.0000   0.8767   0.9729\n",
            "dttl               2.4751   0.0990  24.9991 0.0000   2.2811   2.6692\n",
            "dloss              3.2178   0.1610  19.9816 0.0000   2.9022   3.5334\n",
            "Dload            -28.0274   0.8112 -34.5513 0.0000 -29.6173 -26.4375\n",
            "Spkts              0.5934   0.0576  10.3024 0.0000   0.4805   0.7062\n",
            "swin              -8.4731   0.2835 -29.8876 0.0000  -9.0288  -7.9175\n",
            "dmeansz            3.8035   0.1318  28.8558 0.0000   3.5452   4.0619\n",
            "Djit               0.3036   0.0281  10.7988 0.0000   0.2485   0.3587\n",
            "Dintpkt           -0.4557   0.0448 -10.1610 0.0000  -0.5436  -0.3678\n",
            "synack            -0.7560   0.0209 -36.1667 0.0000  -0.7970  -0.7150\n",
            "ct_state_ttl       5.5610   0.1188  46.8277 0.0000   5.3282   5.7937\n",
            "ct_srv_dst        -3.4585   0.2005 -17.2512 0.0000  -3.8514  -3.0656\n",
            "is_ftp_login      -1.0765   0.0489 -22.0068 0.0000  -1.1724  -0.9806\n",
            "ct_dst_sport_ltm  10.7386   0.3733  28.7650 0.0000  10.0069  11.4703\n",
            "ct_dst_src_ltm     2.8324   0.2049  13.8222 0.0000   2.4308   3.2340\n",
            "dstiploc_AU       28.3302   1.6747  16.9170 0.0000  25.0480  31.6125\n",
            "dstiploc_KP       15.0767   1.3890  10.8546 0.0000  12.3544  17.7990\n",
            "====================================================================\n",
            "\n"
          ],
          "name": "stdout"
        }
      ]
    },
    {
      "cell_type": "code",
      "metadata": {
        "id": "ft_cF2J5vX5_",
        "colab_type": "code",
        "colab": {}
      },
      "source": [
        "#Correlation matrix\n",
        "corrmat = X_train_logreg.corr()\n",
        "top_corr_features = corrmat.index\n",
        "pl.figure(figsize=(60,60))\n",
        "g=sns.heatmap(X_train_logreg[top_corr_features].corr(method='pearson', min_periods=1),annot=True,cmap=\"RdYlGn\")"
      ],
      "execution_count": 0,
      "outputs": []
    },
    {
      "cell_type": "code",
      "metadata": {
        "id": "eLbtzl4hsfpU",
        "colab_type": "code",
        "outputId": "36af547f-d917-4a17-e748-c3930479162c",
        "colab": {
          "base_uri": "https://localhost:8080/",
          "height": 994
        }
      },
      "source": [
        "logisticRegression_model = LogisticRegression(solver='saga',max_iter=500,warm_start=True,n_jobs=-1,verbose=2)\n",
        "logisticRegression = logisticRegression_model.fit(X_train_logreg, y_train)\n",
        "joblib.dump(logisticRegression, 'logisticRegression.sav')\n",
        "\n",
        "predict(logisticRegression, X_valid_logreg, y_valid)"
      ],
      "execution_count": 20,
      "outputs": [
        {
          "output_type": "stream",
          "text": [
            "[Parallel(n_jobs=-1)]: Using backend ThreadingBackend with 4 concurrent workers.\n"
          ],
          "name": "stderr"
        },
        {
          "output_type": "stream",
          "text": [
            "max_iter reached after 131 seconds\n"
          ],
          "name": "stdout"
        },
        {
          "output_type": "stream",
          "text": [
            "/usr/local/lib/python3.6/dist-packages/sklearn/linear_model/sag.py:337: ConvergenceWarning: The max_iter was reached which means the coef_ did not converge\n",
            "  \"the coef_ did not converge\", ConvergenceWarning)\n",
            "[Parallel(n_jobs=-1)]: Done   1 out of   1 | elapsed:  2.2min finished\n"
          ],
          "name": "stderr"
        },
        {
          "output_type": "stream",
          "text": [
            "Accuracy: 72.10%\n",
            "\n",
            "Classification Report\n",
            "               precision    recall  f1-score   support\n",
            "\n",
            "           0       1.00      0.71      0.83    677769\n",
            "           1       0.10      1.00      0.19     22215\n",
            "\n",
            "    accuracy                           0.72    699984\n",
            "   macro avg       0.55      0.86      0.51    699984\n",
            "weighted avg       0.97      0.72      0.81    699984\n",
            "\n",
            "\n",
            "\n",
            "Confusion-matrix\n",
            " Predicted Species       0       1\n",
            "Actual Species                   \n",
            "0                  482496  195273\n",
            "1                      18   22197\n",
            "\n",
            "\n",
            "ROC-AUC: 0.9850689179086268\n",
            "\n"
          ],
          "name": "stdout"
        },
        {
          "output_type": "display_data",
          "data": {
            "image/png": "[encoded data removed]",
            "text/plain": [
              "<Figure size 1080x576 with 1 Axes>"
            ]
          },
          "metadata": {
            "tags": []
          }
        }
      ]
    },
    {
      "cell_type": "code",
      "metadata": {
        "id": "8JHqwug9tIPV",
        "colab_type": "code",
        "colab": {
          "base_uri": "https://localhost:8080/",
          "height": 994
        },
        "outputId": "a2f77063-20bd-464a-ee2c-47e494255a68"
      },
      "source": [
        "logisticRegression_model = LogisticRegression(solver='saga',max_iter=500,warm_start=True,n_jobs=-1,verbose=2)\n",
        "logisticRegression = logisticRegression_model.fit(X_train, y_train)\n",
        "joblib.dump(logisticRegression, 'logisticRegression.sav')\n",
        "\n",
        "predict(logisticRegression, X_valid, y_valid)"
      ],
      "execution_count": 21,
      "outputs": [
        {
          "output_type": "stream",
          "text": [
            "[Parallel(n_jobs=-1)]: Using backend ThreadingBackend with 4 concurrent workers.\n"
          ],
          "name": "stderr"
        },
        {
          "output_type": "stream",
          "text": [
            "max_iter reached after 242 seconds\n"
          ],
          "name": "stdout"
        },
        {
          "output_type": "stream",
          "text": [
            "/usr/local/lib/python3.6/dist-packages/sklearn/linear_model/sag.py:337: ConvergenceWarning: The max_iter was reached which means the coef_ did not converge\n",
            "  \"the coef_ did not converge\", ConvergenceWarning)\n",
            "[Parallel(n_jobs=-1)]: Done   1 out of   1 | elapsed:  4.0min finished\n"
          ],
          "name": "stderr"
        },
        {
          "output_type": "stream",
          "text": [
            "Accuracy: 96.57%\n",
            "\n",
            "Classification Report\n",
            "               precision    recall  f1-score   support\n",
            "\n",
            "           0       1.00      0.96      0.98    677769\n",
            "           1       0.48      1.00      0.65     22215\n",
            "\n",
            "    accuracy                           0.97    699984\n",
            "   macro avg       0.74      0.98      0.82    699984\n",
            "weighted avg       0.98      0.97      0.97    699984\n",
            "\n",
            "\n",
            "\n",
            "Confusion-matrix\n",
            " Predicted Species       0      1\n",
            "Actual Species                  \n",
            "0                  653733  24036\n",
            "1                       5  22210\n",
            "\n",
            "\n",
            "ROC-AUC: 0.9972540582711685\n",
            "\n"
          ],
          "name": "stdout"
        },
        {
          "output_type": "display_data",
          "data": {
            "image/png": "[encoded data removed]",
            "text/plain": [
              "<Figure size 1080x576 with 1 Axes>"
            ]
          },
          "metadata": {
            "tags": []
          }
        }
      ]
    },
    {
      "cell_type": "code",
      "metadata": {
        "id": "eMGLuxZHxdjQ",
        "colab_type": "code",
        "colab": {
          "base_uri": "https://localhost:8080/",
          "height": 357
        },
        "outputId": "1b879530-a89d-4a10-8276-be98cd22f987"
      },
      "source": [
        "linearSVC_model = LinearSVC(verbose=2)\n",
        "\n",
        "feature_map_nystroem = Nystroem(random_state=0,n_components=50)\n",
        "X_train_transformed = feature_map_nystroem.fit_transform(X_train)\n",
        "X_valid_transformed = feature_map_nystroem.fit_transform(X_valid)\n",
        "\n",
        "linearSVC = linearSVC_model.fit(X_train, y_train)\n",
        "linearSVC_prediction = linearSVC.predict(X_valid)\n",
        "\n",
        "accuracy = accuracy_score(y_valid, linearSVC_prediction)\n",
        "print(\"Accuracy: %.2f%%\" % (accuracy * 100.0))\n",
        "\n",
        "print(\"\\nClassification Report\\n {}\\n\".format(classification_report(y_valid, linearSVC_prediction)))\n",
        "\n",
        "print(\"\\nConfusion-matrix\\n {}\\n\".format(pd.crosstab(y_valid, linearSVC_prediction, rownames=['Actual Species'], colnames=['Predicted Species'])))"
      ],
      "execution_count": 31,
      "outputs": [
        {
          "output_type": "stream",
          "text": [
            "[LibLinear]Accuracy: 96.68%\n",
            "\n",
            "Classification Report\n",
            "               precision    recall  f1-score   support\n",
            "\n",
            "           0       1.00      0.97      0.98    677769\n",
            "           1       0.49      1.00      0.66     22215\n",
            "\n",
            "    accuracy                           0.97    699984\n",
            "   macro avg       0.74      0.98      0.82    699984\n",
            "weighted avg       0.98      0.97      0.97    699984\n",
            "\n",
            "\n",
            "\n",
            "Confusion-matrix\n",
            " Predicted Species       0      1\n",
            "Actual Species                  \n",
            "0                  654539  23230\n",
            "1                       0  22215\n",
            "\n"
          ],
          "name": "stdout"
        }
      ]
    },
    {
      "cell_type": "code",
      "metadata": {
        "id": "gkzL1zHK71EZ",
        "colab_type": "code",
        "colab": {}
      },
      "source": [
        "grid = {'alpha': [1e-2, 1e-1, 1e0, 1e1, 1e2],\n",
        "        'max_iter': [500],\n",
        "        'loss': ['log', 'modified_huber', 'squared_hinge', 'perceptron'],\n",
        "        'learning_rate': ['constant', 'invscaling', 'adaptive'],\n",
        "        'eta0': [0.2],\n",
        "        'fit_intercept': [True,False],\n",
        "        'shuffle': [True,False],\n",
        "        'early_stopping': [True,False],\n",
        "        'penalty': ['l2','elasticnet'],\n",
        "        'n_jobs': [-1]}\n",
        "\n",
        "paramGrid = ParameterGrid(grid)\n",
        "SGDClassifier_model = linear_model.SGDClassifier()\n",
        "bestModel, bestScore, allModels, allScores = pf.bestFit(SGDClassifier_model, paramGrid,\n",
        "                                                        X_train, y_train, X_valid, y_valid, \n",
        "                                                        metric = roc_auc_score, scoreLabel = 'AUC')\n",
        "\n",
        "print(bestModel, bestScore)"
      ],
      "execution_count": 0,
      "outputs": []
    },
    {
      "cell_type": "code",
      "metadata": {
        "id": "iky1U7h8F3gZ",
        "colab_type": "code",
        "colab": {
          "base_uri": "https://localhost:8080/",
          "height": 119
        },
        "outputId": "7a5e9b34-9ac1-4ced-d497-b7d0ca871632"
      },
      "source": [
        ""
      ],
      "execution_count": 43,
      "outputs": [
        {
          "output_type": "stream",
          "text": [
            "SGDClassifier(alpha=0.01, average=False, class_weight=None, early_stopping=True,\n",
            "              epsilon=0.1, eta0=0.2, fit_intercept=True, l1_ratio=0.15,\n",
            "              learning_rate='invscaling', loss='log', max_iter=500,\n",
            "              n_iter_no_change=5, n_jobs=-1, penalty='elasticnet', power_t=0.5,\n",
            "              random_state=None, shuffle=True, tol=0.001,\n",
            "              validation_fraction=0.1, verbose=0, warm_start=False) 0.9980472270206788\n"
          ],
          "name": "stdout"
        }
      ]
    },
    {
      "cell_type": "code",
      "metadata": {
        "id": "oOCNwDRO5kjF",
        "colab_type": "code",
        "colab": {
          "base_uri": "https://localhost:8080/",
          "height": 909
        },
        "outputId": "21b27719-41a3-41d0-e8ed-a755092134d3"
      },
      "source": [
        "SGDClassifier_model = linear_model.SGDClassifier(alpha=0.01, average=False, class_weight=None, early_stopping=True,\n",
        "              epsilon=0.1, eta0=0.2, fit_intercept=True, l1_ratio=0.15,\n",
        "              learning_rate='invscaling', loss='log', max_iter=500,\n",
        "              n_iter_no_change=5, n_jobs=-1, penalty='elasticnet', power_t=0.5,\n",
        "              random_state=None, shuffle=True, tol=0.001,\n",
        "              validation_fraction=0.1, verbose=0, warm_start=False)\n",
        "\n",
        "SGDClassifier = SGDClassifier_model.fit(X_train, y_train)\n",
        "predict(SGDClassifier,X_valid,y_valid)"
      ],
      "execution_count": 46,
      "outputs": [
        {
          "output_type": "stream",
          "text": [
            "Accuracy: 97.86%\n",
            "\n",
            "Classification Report\n",
            "               precision    recall  f1-score   support\n",
            "\n",
            "           0       1.00      0.98      0.99    677769\n",
            "           1       0.60      1.00      0.75     22215\n",
            "\n",
            "    accuracy                           0.98    699984\n",
            "   macro avg       0.80      0.99      0.87    699984\n",
            "weighted avg       0.99      0.98      0.98    699984\n",
            "\n",
            "\n",
            "\n",
            "Confusion-matrix\n",
            " Predicted Species       0      1\n",
            "Actual Species                  \n",
            "0                  662785  14984\n",
            "1                       1  22214\n",
            "\n",
            "\n",
            "ROC-AUC: 0.9980109861953459\n",
            "\n"
          ],
          "name": "stdout"
        },
        {
          "output_type": "display_data",
          "data": {
            "image/png": "[encoded data removed]",
            "text/plain": [
              "<Figure size 1080x576 with 1 Axes>"
            ]
          },
          "metadata": {
            "tags": []
          }
        }
      ]
    },
    {
      "cell_type": "code",
      "metadata": {
        "id": "SeOb8m5V0uTx",
        "colab_type": "code",
        "outputId": "dfddf8ca-65b1-4000-e003-3f691ff8c635",
        "colab": {
          "base_uri": "https://localhost:8080/",
          "height": 119
        }
      },
      "source": [
        "n_estimators = [int(x) for x in np.linspace(start = 10, stop = 100, num = 10)]\n",
        "max_features = ['auto', 'sqrt', 'log2']\n",
        "max_depth = [int(x) for x in np.linspace(10, 100, num = 10)]\n",
        "max_depth.append(None)\n",
        "min_samples_split = [5, 10, 15, 20]\n",
        "min_samples_leaf = [2, 4, 6, 8, 10]\n",
        "bootstrap = [True, False]\n",
        "\n",
        "random_grid = {'n_estimators': n_estimators,\n",
        "               'max_features': max_features,\n",
        "               'max_depth': max_depth,\n",
        "               'min_samples_split': min_samples_split,\n",
        "               'min_samples_leaf': min_samples_leaf,\n",
        "               'bootstrap': bootstrap}\n",
        "\n",
        "pprint(random_grid)"
      ],
      "execution_count": 0,
      "outputs": [
        {
          "output_type": "stream",
          "text": [
            "{'bootstrap': [True, False],\n",
            " 'max_depth': [10, 20, 30, 40, 50, 60, 70, 80, 90, 100, None],\n",
            " 'max_features': ['auto', 'sqrt', 'log2'],\n",
            " 'min_samples_leaf': [2, 4, 6, 8, 10],\n",
            " 'min_samples_split': [5, 10, 15, 20],\n",
            " 'n_estimators': [10, 20, 30, 40, 50, 60, 70, 80, 90, 100]}\n"
          ],
          "name": "stdout"
        }
      ]
    },
    {
      "cell_type": "code",
      "metadata": {
        "id": "yagSL6Jk4uiR",
        "colab_type": "code",
        "colab": {}
      },
      "source": [
        "model = RandomForestClassifier()\n",
        "random_search = RandomizedSearchCV(estimator = model, param_distributions = random_grid, n_iter = 5, cv = 10, n_jobs=-1, verbose = 2)\n",
        "randomRorest_randomSearch = random_search.fit(X_train, y_train)\n",
        "joblib.dump(randomRorest_randomSearch, 'randomForest_randomSearch.sav')\n",
        "\n",
        "pprint(randomRorest_randomSearch.best_params_)\n",
        "\n",
        "predict(randomRorest_randomSearch, X_valid, y_valid)"
      ],
      "execution_count": 0,
      "outputs": []
    },
    {
      "cell_type": "code",
      "metadata": {
        "id": "e5Nr03FFBtWJ",
        "colab_type": "code",
        "colab": {}
      },
      "source": [
        "params = {'n_estimators': [130,150],\n",
        "          'max_features': ['log2'],\n",
        "          'max_depth': [130,150],\n",
        "          'min_samples_split': [8,10],\n",
        "          'min_samples_leaf': [5],\n",
        "          'bootstrap': [False]}\n",
        "\n",
        "model = RandomForestClassifier()\n",
        "grid_search = GridSearchCV(estimator = model, param_grid = params, cv = 3, n_jobs=-1, verbose = 2)\n",
        "randomRorest_gridSearch = grid_search.fit(X_train, y_train)\n",
        "joblib.dump(randomRorest_gridSearch, 'randomForest_gridSearch.sav')\n",
        "\n",
        "pprint(randomRorest_gridSearch.best_params_)\n",
        "\n",
        "predict(randomRorest_gridSearch, X_valid, y_valid)"
      ],
      "execution_count": 0,
      "outputs": []
    },
    {
      "cell_type": "code",
      "metadata": {
        "id": "AACLgHmi-CaM",
        "colab_type": "code",
        "colab": {}
      },
      "source": [
        "model = RandomForestClassifier(n_estimators=110,max_features='log2',max_depth=120,min_samples_split=8,min_samples_leaf=5,bootstrap=False,n_jobs=-1)\n",
        "randomForest_basic = model.fit(X_train, y_train)\n",
        "joblib.dump(randomForest_basic, 'randomForest_basic.sav')\n",
        "\n",
        "predict(randomForest_basic, X_valid, y_valid)"
      ],
      "execution_count": 0,
      "outputs": []
    },
    {
      "cell_type": "code",
      "metadata": {
        "id": "I_rBA6267PeS",
        "colab_type": "code",
        "colab": {}
      },
      "source": [
        "randomForest = RandomForestClassifier(class_weight=class_weights, n_estimators=len(Counter(Y)), criterion='entropy', random_state=0, n_jobs=len(Counter(Y)), max_depth=None, bootstrap=False, n_jobs=-1)\n",
        "\n",
        "selected_features = SelectFromModel(randomForest)\n",
        "selected_features.fit(X_train, y_train)\n",
        "\n",
        "features = X_train.columns[(selected_features.get_support())]\n",
        "print(\"Selected features: {}\".format(features))\n",
        "\n",
        "X_train_important_features = selected_features.transform(X_train)\n",
        "X_test_important_features = selected_features.transform(X_test)"
      ],
      "execution_count": 0,
      "outputs": []
    },
    {
      "cell_type": "code",
      "metadata": {
        "id": "1fPQzlSBikjc",
        "colab_type": "code",
        "colab": {}
      },
      "source": [
        "decisionTree_model = DecisionTreeClassifier(max_features='auto')\n",
        "decisionTree = decisionTree_model.fit(X_train, y_train)\n",
        "joblib.dump(decisionTree, 'decisionTree.sav')\n",
        "\n",
        "predict(decisionTree, X_valid, y_valid)"
      ],
      "execution_count": 0,
      "outputs": []
    }
  ]
}
{
  "nbformat": 4,
  "nbformat_minor": 0,
  "metadata": {
    "colab": {
      "name": "xcsengody_models.ipynb",
      "provenance": [],
      "collapsed_sections": [],
      "machine_shape": "hm",
      "include_colab_link": true
    },
    "kernelspec": {
      "name": "python3",
      "display_name": "Python 3"
    }
  },
  "cells": [
    {
      "cell_type": "markdown",
      "metadata": {
        "id": "view-in-github",
        "colab_type": "text"
      },
      "source": [
        "<a href=\"https://colab.research.google.com/github/xcsengody/DP/blob/master/xcsengody_models.ipynb\" target=\"_parent\"><img src=\"https://colab.research.google.com/assets/colab-badge.svg\" alt=\"Open In Colab\"/></a>"
      ]
    },
    {
      "cell_type": "code",
      "metadata": {
        "id": "ffXLxJ7g5Bkc",
        "colab_type": "code",
        "outputId": "c4d28d99-a9d8-46a6-bace-c805272a9c43",
        "colab": {
          "base_uri": "https://localhost:8080/",
          "height": 34
        }
      },
      "source": [
        "from google.colab import drive\n",
        "drive.mount('/content/drive',force_remount=True)\n",
        "root='/content/drive/My Drive/DP/'"
      ],
      "execution_count": 1,
      "outputs": [
        {
          "output_type": "stream",
          "text": [
            "Mounted at /content/drive\n"
          ],
          "name": "stdout"
        }
      ]
    },
    {
      "cell_type": "code",
      "metadata": {
        "id": "S4wXQuD36yV2",
        "colab_type": "code",
        "outputId": "c42a6abb-19f7-41e0-b928-439a1f36247e",
        "colab": {
          "base_uri": "https://localhost:8080/",
          "height": 71
        }
      },
      "source": [
        "import pandas as pd\n",
        "import numpy as np\n",
        "import matplotlib.pyplot as plt \n",
        "import seaborn as sns\n",
        "import pylab as pl\n",
        "from pylab import rcParams\n",
        "from collections import Counter\n",
        "from imblearn.pipeline import make_pipeline\n",
        "from imblearn.over_sampling import (SMOTE,SVMSMOTE,ADASYN)"
      ],
      "execution_count": 2,
      "outputs": [
        {
          "output_type": "stream",
          "text": [
            "/usr/local/lib/python3.6/dist-packages/sklearn/externals/six.py:31: DeprecationWarning: The module is deprecated in version 0.21 and will be removed in version 0.23 since we've dropped support for Python 2.7. Please rely on the official version of six (https://pypi.org/project/six/).\n",
            "  \"(https://pypi.org/project/six/).\", DeprecationWarning)\n"
          ],
          "name": "stderr"
        }
      ]
    },
    {
      "cell_type": "code",
      "metadata": {
        "id": "688pyI_v58ET",
        "colab_type": "code",
        "colab": {}
      },
      "source": [
        "from sklearn.ensemble import RandomForestClassifier\n",
        "from sklearn.tree import DecisionTreeClassifier\n",
        "from sklearn.linear_model import LogisticRegression\n",
        "import statsmodels.api as sm\n",
        "from sklearn.feature_selection import RFE\n",
        "from sklearn.neighbors import KNeighborsClassifier\n",
        "from sklearn.svm import SVC\n",
        "from sklearn.model_selection import RandomizedSearchCV\n",
        "from sklearn.model_selection import GridSearchCV\n",
        "from sklearn.model_selection import train_test_split\n",
        "from sklearn.feature_selection import SelectFromModel\n",
        "from sklearn.preprocessing import StandardScaler\n",
        "from sklearn.utils import class_weight\n",
        "from sklearn import metrics\n",
        "from pprint import pprint\n",
        "from sklearn.metrics import confusion_matrix\n",
        "from sklearn.metrics import accuracy_score\n",
        "from sklearn.metrics import classification_report\n",
        "from sklearn.metrics import roc_curve \n",
        "from sklearn.metrics import roc_auc_score\n",
        "from sklearn.model_selection import StratifiedKFold\n",
        "from sklearn.model_selection import cross_val_score\n",
        "from sklearn.externals import joblib"
      ],
      "execution_count": 0,
      "outputs": []
    },
    {
      "cell_type": "code",
      "metadata": {
        "id": "5A-plfcB7FLb",
        "colab_type": "code",
        "colab": {}
      },
      "source": [
        "def plot_roc_curve(fpr, tpr):  \n",
        "  plt.plot(fpr, tpr, color='orange', label='ROC')\n",
        "  plt.plot([0, 1], [0, 1], color='darkblue', linestyle='--')\n",
        "  plt.xlabel('False Positive Rate')\n",
        "  plt.ylabel('True Positive Rate')\n",
        "  plt.title('Receiver Operating Characteristic (ROC) Curve')\n",
        "  plt.legend()\n",
        "  plt.show()\n",
        "\n",
        "def predict(clf, X, y):\n",
        "  prediction = clf.predict(X)\n",
        "\n",
        "  accuracy = accuracy_score(y, prediction)\n",
        "  print(\"Accuracy: %.2f%%\" % (accuracy * 100.0))\n",
        "\n",
        "  print(\"\\nClassification Report\\n {}\\n\".format(classification_report(y, prediction)))\n",
        "\n",
        "  print(\"\\nConfusion-matrix\\n {}\\n\".format(pd.crosstab(y, prediction, rownames=['Actual Species'], colnames=['Predicted Species'])))\n",
        "\n",
        "  # ROC-AUC for binary class model performance evaluation\n",
        "  proba = clf.predict_proba(X)\n",
        "  proba = [p[1] for p in proba]\n",
        "  print(\"\\nROC-AUC: {}\\n\".format(roc_auc_score(y, proba)))\n",
        "  \n",
        "  fpr, tpr, thresholds = roc_curve(y.values, proba)\n",
        "  plot_roc_curve(fpr, tpr)\n",
        "  \n",
        "\n",
        "  #score = metrics.f1_score(y_test, prediction, average=None)\n",
        "  #print(\"F1 score: {}\".format(score))\n",
        "\n",
        "  #cv = cross_val_score(clf, X_train, y_train, cv=10, scoring='roc_auc')\n",
        "  #print(\"Standard Cross-validation accuracy: %f (+/- %f)\" % (cv.mean(), (cv.std()*2)))\n",
        "\n",
        "  #skfold = StratifiedKFold(n_splits=10)\n",
        "\n",
        "  #skfold_cv = cross_val_score(clf, X_train, y_train, cv=skfold, scoring='roc_auc')\n",
        "  #print(\"Stratified K-fold Cross-validation accuracy of train set: %f (+/- %f)\\n\" % (skfold_cv.mean(), (skfold_cv.std()*2)))\n",
        "\n",
        "  #skfold_cv = cross_val_score(clf, X_valid, y_valid, cv=skfold, scoring='roc_auc')\n",
        "  #print(\"Stratified K-fold Cross-validation accuracy of validation set: %f (+/- %f)\\n\" % (skfold_cv.mean(), (skfold_cv.std()*2)))\n",
        "\n",
        "  # Confusion-matrix usually used to evaluate the performance of a multiclass model.\n",
        "  #conf_mat = confusion_matrix(y_test, prediction)\n",
        "  #sns.heatmap(conf_mat,annot=True)\n",
        "  #plt.title(\"Confusion-matrix\")\n",
        "  #plt.figure(figsize=(20,20))\n",
        "  #plt.show()"
      ],
      "execution_count": 0,
      "outputs": []
    },
    {
      "cell_type": "code",
      "metadata": {
        "id": "eXc1V0MU5Z_Z",
        "colab_type": "code",
        "colab": {}
      },
      "source": [
        "pd.set_option('display.max_rows', 500);\n",
        "pd.set_option('display.max_columns', None);\n",
        "rcParams['figure.figsize'] = 15, 8;\n",
        "sns.set(style=\"whitegrid\");"
      ],
      "execution_count": 0,
      "outputs": []
    },
    {
      "cell_type": "code",
      "metadata": {
        "id": "AdUyYyKH5DLG",
        "colab_type": "code",
        "colab": {}
      },
      "source": [
        "#dataset=dataset.reset_index();\n",
        "#dataset=dataset.set_index('index');\n",
        "\n",
        "#joblib.dump(clf, 'randomforestmodel.sav')\n",
        "#clf = joblib.load(root+'/Model/randomforestmodel_bin.sav')"
      ],
      "execution_count": 0,
      "outputs": []
    },
    {
      "cell_type": "code",
      "metadata": {
        "id": "bVZSFDa6_us6",
        "colab_type": "code",
        "colab": {}
      },
      "source": [
        "train_dataset_path= root+\"Dataset/dataset_4.csv\";\n",
        "valid_dataset_path= root+\"Dataset/dataset_1.csv\";"
      ],
      "execution_count": 0,
      "outputs": []
    },
    {
      "cell_type": "code",
      "metadata": {
        "id": "IS3Q3zwe5nie",
        "colab_type": "code",
        "outputId": "668093db-432a-48d1-c4fc-285db49bbc60",
        "colab": {
          "base_uri": "https://localhost:8080/",
          "height": 68
        }
      },
      "source": [
        "dataset_valid = pd.read_csv(valid_dataset_path, delimiter=',', encoding='utf-8', low_memory=False, skipinitialspace=True, skip_blank_lines=True, verbose=True);\n",
        "del dataset_valid[\"Unnamed: 0\"]"
      ],
      "execution_count": 8,
      "outputs": [
        {
          "output_type": "stream",
          "text": [
            "Tokenization took: 9714.32 ms\n",
            "Type conversion took: 11698.88 ms\n",
            "Parser memory cleanup took: 53.17 ms\n"
          ],
          "name": "stdout"
        }
      ]
    },
    {
      "cell_type": "code",
      "metadata": {
        "id": "AuKh8zzb0CUg",
        "colab_type": "code",
        "outputId": "f29dcd0e-a2b7-44db-dc01-e5973f2dee07",
        "colab": {
          "base_uri": "https://localhost:8080/",
          "height": 51
        }
      },
      "source": [
        "print(\"Number of rows: {}\\nNumber of features: {}\".format(dataset_valid.shape[0],dataset_valid.shape[1]))"
      ],
      "execution_count": 9,
      "outputs": [
        {
          "output_type": "stream",
          "text": [
            "Number of rows: 699984\n",
            "Number of features: 58\n"
          ],
          "name": "stdout"
        }
      ]
    },
    {
      "cell_type": "code",
      "metadata": {
        "id": "wSpxn1Zkz6S9",
        "colab_type": "code",
        "outputId": "30fe665e-a047-4795-eab1-ed6e2db68311",
        "colab": {
          "base_uri": "https://localhost:8080/",
          "height": 68
        }
      },
      "source": [
        "dataset_train = pd.read_csv(train_dataset_path, delimiter=',', encoding='utf-8', low_memory=False, skipinitialspace=True, skip_blank_lines=True, verbose=True);\n",
        "del dataset_train[\"Unnamed: 0\"]"
      ],
      "execution_count": 10,
      "outputs": [
        {
          "output_type": "stream",
          "text": [
            "Tokenization took: 4501.09 ms\n",
            "Type conversion took: 7137.12 ms\n",
            "Parser memory cleanup took: 21.22 ms\n"
          ],
          "name": "stdout"
        }
      ]
    },
    {
      "cell_type": "code",
      "metadata": {
        "id": "KYtwlOy85ta3",
        "colab_type": "code",
        "outputId": "79407da2-1ce8-4496-e009-98ecfcc005f3",
        "colab": {
          "base_uri": "https://localhost:8080/",
          "height": 51
        }
      },
      "source": [
        "print(\"Number of rows: {}\\nNumber of features: {}\".format(dataset_train.shape[0],dataset_train.shape[1]))"
      ],
      "execution_count": 11,
      "outputs": [
        {
          "output_type": "stream",
          "text": [
            "Number of rows: 440042\n",
            "Number of features: 58\n"
          ],
          "name": "stdout"
        }
      ]
    },
    {
      "cell_type": "code",
      "metadata": {
        "id": "Ap_vhrws6_Je",
        "colab_type": "code",
        "outputId": "e0e3afbe-5a8c-42dd-c38a-d67d9315c13b",
        "colab": {
          "base_uri": "https://localhost:8080/",
          "height": 68
        }
      },
      "source": [
        "y = dataset_train.attack_cat.apply(lambda x: 1 if x>0 else x)\n",
        "X = dataset_train.drop('attack_cat', axis=1)\n",
        "\n",
        "X_train, X_test, y_train, y_test = train_test_split(X, y, test_size = 0.3, random_state = 0)\n",
        "\n",
        "y_valid = dataset_valid.attack_cat.apply(lambda x: 1 if x>0 else x)\n",
        "X_valid = dataset_valid.drop('attack_cat', axis=1)\n",
        "\n",
        "print(\"Train set size: {}\\nTest set size: {}\\nValidation set size: {}\".format(X_train.shape[0],X_test.shape[0],X_valid.shape[0]))\n",
        "\n",
        "class_weights_arr = class_weight.compute_class_weight('balanced',np.unique(y_train),y_train)\n",
        "class_weights = {};\n",
        "\n",
        "i=0\n",
        "for cw in class_weights_arr:\n",
        "  class_weights[i] = cw;\n",
        "  i+=1"
      ],
      "execution_count": 12,
      "outputs": [
        {
          "output_type": "stream",
          "text": [
            "Train set size: 308029\n",
            "Test set size: 132013\n",
            "Validation set size: 699984\n"
          ],
          "name": "stdout"
        }
      ]
    },
    {
      "cell_type": "code",
      "metadata": {
        "id": "9Sxnzc9MnweE",
        "colab_type": "code",
        "colab": {
          "base_uri": "https://localhost:8080/",
          "height": 394
        },
        "outputId": "efa46885-e6b9-4760-dfc9-8dc33784983d"
      },
      "source": [
        "logisticRegression_model = LogisticRegression()\n",
        "rfe = RFE(logisticRegression_model, n_features_to_select=None, step=8, verbose=2)\n",
        "logisticRegression = rfe.fit(X_train, y_train)\n",
        "\n",
        "print(rfe.support_)"
      ],
      "execution_count": 20,
      "outputs": [
        {
          "output_type": "stream",
          "text": [
            "Fitting estimator with 57 features.\n"
          ],
          "name": "stdout"
        },
        {
          "output_type": "stream",
          "text": [
            "/usr/local/lib/python3.6/dist-packages/sklearn/linear_model/logistic.py:432: FutureWarning: Default solver will be changed to 'lbfgs' in 0.22. Specify a solver to silence this warning.\n",
            "  FutureWarning)\n"
          ],
          "name": "stderr"
        },
        {
          "output_type": "stream",
          "text": [
            "Fitting estimator with 49 features.\n"
          ],
          "name": "stdout"
        },
        {
          "output_type": "stream",
          "text": [
            "/usr/local/lib/python3.6/dist-packages/sklearn/linear_model/logistic.py:432: FutureWarning: Default solver will be changed to 'lbfgs' in 0.22. Specify a solver to silence this warning.\n",
            "  FutureWarning)\n"
          ],
          "name": "stderr"
        },
        {
          "output_type": "stream",
          "text": [
            "Fitting estimator with 41 features.\n"
          ],
          "name": "stdout"
        },
        {
          "output_type": "stream",
          "text": [
            "/usr/local/lib/python3.6/dist-packages/sklearn/linear_model/logistic.py:432: FutureWarning: Default solver will be changed to 'lbfgs' in 0.22. Specify a solver to silence this warning.\n",
            "  FutureWarning)\n"
          ],
          "name": "stderr"
        },
        {
          "output_type": "stream",
          "text": [
            "Fitting estimator with 33 features.\n"
          ],
          "name": "stdout"
        },
        {
          "output_type": "stream",
          "text": [
            "/usr/local/lib/python3.6/dist-packages/sklearn/linear_model/logistic.py:432: FutureWarning: Default solver will be changed to 'lbfgs' in 0.22. Specify a solver to silence this warning.\n",
            "  FutureWarning)\n",
            "/usr/local/lib/python3.6/dist-packages/sklearn/linear_model/logistic.py:432: FutureWarning: Default solver will be changed to 'lbfgs' in 0.22. Specify a solver to silence this warning.\n",
            "  FutureWarning)\n"
          ],
          "name": "stderr"
        },
        {
          "output_type": "stream",
          "text": [
            "[False False  True False False  True  True False False  True  True  True\n",
            " False  True False  True  True False  True  True False False False  True\n",
            " False False False  True False False False  True False  True False False\n",
            "  True False  True  True False  True False False False  True  True  True\n",
            "  True  True  True  True False  True False  True False]\n",
            "[4 3 1 4 2 1 1 3 5 1 1 1 3 1 4 1 1 2 1 1 5 5 5 1 3 3 3 1 5 5 3 1 3 1 4 2 1\n",
            " 4 1 1 4 1 2 5 2 1 1 1 1 1 1 1 4 1 4 1 5]\n"
          ],
          "name": "stdout"
        }
      ]
    },
    {
      "cell_type": "code",
      "metadata": {
        "id": "wOqeVUCBp1mD",
        "colab_type": "code",
        "colab": {}
      },
      "source": [
        "selected_columns=[]\n",
        "columns = X_train.columns\n",
        "ranked_columns = rfe.support_\n",
        "\n",
        "for i in range(len(ranked_columns)):\n",
        "  if ranked_columns[i] == True:\n",
        "    selected_columns.append(columns[i])\n",
        "\n",
        "selected_columns"
      ],
      "execution_count": 0,
      "outputs": []
    },
    {
      "cell_type": "code",
      "metadata": {
        "id": "jGDjX38RpZj_",
        "colab_type": "code",
        "colab": {
          "base_uri": "https://localhost:8080/",
          "height": 989
        },
        "outputId": "94e88871-f4a3-40d1-a4a2-3707d67fc17c"
      },
      "source": [
        "X_train=X_train[selected_columns]\n",
        "\n",
        "logisticRegression_model=sm.Logit(y_train,X_train)\n",
        "logisticRegression=logisticRegression_model.fit()\n",
        "print(logisticRegression.summary2())"
      ],
      "execution_count": 28,
      "outputs": [
        {
          "output_type": "stream",
          "text": [
            "Optimization terminated successfully.\n",
            "         Current function value: 0.030466\n",
            "         Iterations 17\n"
          ],
          "name": "stdout"
        },
        {
          "output_type": "stream",
          "text": [
            "/usr/local/lib/python3.6/dist-packages/statsmodels/base/model.py:1286: RuntimeWarning: invalid value encountered in sqrt\n",
            "  bse_ = np.sqrt(np.diag(self.cov_params()))\n",
            "/usr/local/lib/python3.6/dist-packages/statsmodels/base/model.py:1294: RuntimeWarning: divide by zero encountered in true_divide\n",
            "  return self.params / self.bse\n",
            "/usr/local/lib/python3.6/dist-packages/scipy/stats/_distn_infrastructure.py:901: RuntimeWarning: invalid value encountered in greater\n",
            "  return (a < x) & (x < b)\n",
            "/usr/local/lib/python3.6/dist-packages/scipy/stats/_distn_infrastructure.py:901: RuntimeWarning: invalid value encountered in less\n",
            "  return (a < x) & (x < b)\n",
            "/usr/local/lib/python3.6/dist-packages/scipy/stats/_distn_infrastructure.py:1892: RuntimeWarning: invalid value encountered in less_equal\n",
            "  cond2 = cond0 & (x <= _a)\n"
          ],
          "name": "stderr"
        },
        {
          "output_type": "stream",
          "text": [
            "                                Results: Logit\n",
            "===============================================================================\n",
            "Model:                   Logit                Pseudo R-squared:     0.939      \n",
            "Dependent Variable:      attack_cat           AIC:                  18820.5983 \n",
            "Date:                    2019-11-27 21:02     BIC:                  19097.1849 \n",
            "No. Observations:        308029               Log-Likelihood:       -9384.3    \n",
            "Df Model:                25                   LL-Null:              -1.5479e+05\n",
            "Df Residuals:            308003               LLR p-value:          0.0000     \n",
            "Converged:               1.0000               Scale:                1.0000     \n",
            "No. Iterations:          17.0000                                               \n",
            "-------------------------------------------------------------------------------\n",
            "                  Coef.    Std.Err.     z     P>|z|      [0.025       0.975]   \n",
            "-------------------------------------------------------------------------------\n",
            "dsport            1.0314      0.0725  14.2288 0.0000        0.8893       1.1734\n",
            "proto            72.7866         nan      nan    nan           nan          nan\n",
            "state            -5.1293      0.7738  -6.6286 0.0000       -6.6459      -3.6126\n",
            "dbytes           -3.3818      0.2347 -14.4099 0.0000       -3.8417      -2.9218\n",
            "sttl              0.2681      0.0333   8.0556 0.0000        0.2029       0.3333\n",
            "dttl              1.0077         nan      nan    nan           nan          nan\n",
            "dloss             2.9628      0.2861  10.3564 0.0000        2.4021       3.5235\n",
            "Dload             0.5933      0.2494   2.3791 0.0174        0.1045       1.0820\n",
            "Spkts             0.7634      0.0724  10.5428 0.0000        0.6214       0.9053\n",
            "swin             -4.2413      2.5765  -1.6461 0.0997       -9.2911       0.8086\n",
            "dwin             -1.4525      1.6800  -0.8646 0.3873       -4.7453       1.8402\n",
            "dmeansz           2.3800      0.1585  15.0111 0.0000        2.0692       2.6907\n",
            "Djit              0.4704      0.0405  11.6222 0.0000        0.3910       0.5497\n",
            "Dintpkt          -0.6653      0.0683  -9.7407 0.0000       -0.7991      -0.5314\n",
            "synack           -0.5544      0.0229 -24.2149 0.0000       -0.5993      -0.5095\n",
            "ct_state_ttl      1.8519      0.2893   6.4008 0.0000        1.2848       2.4189\n",
            "is_ftp_login     -0.5561         nan      nan    nan           nan          nan\n",
            "ct_ftp_cmd       -0.5561         nan      nan    nan           nan          nan\n",
            "ct_srv_dst       -1.7823      0.1628 -10.9482 0.0000       -2.1014      -1.4633\n",
            "ct_dst_sport_ltm 10.2357         nan      nan    nan           nan          nan\n",
            "ct_dst_src_ltm    1.0839      0.1667   6.5009 0.0000        0.7571       1.4106\n",
            "srciploc_AU       4.7945 387024.3161   0.0000 1.0000  -758548.9263  758558.5153\n",
            "srciploc_JP      -5.0951 512398.1723  -0.0000 1.0000 -1004287.0585 1004276.8684\n",
            "srciploc_KP       1.4989 437878.3600   0.0000 1.0000  -858224.3162  858227.3140\n",
            "srciploc_Private  1.2143  81332.6862   0.0000 1.0000  -159407.9214  159410.3501\n",
            "dstiploc_AU      13.5535      9.7276   1.3933 0.1635       -5.5123      32.6192\n",
            "dstiploc_KP      -5.6102     11.9729  -0.4686 0.6394      -29.0768      17.8563\n",
            "dstiploc_Private -4.0684      0.0000     -inf 0.0000       -4.0684      -4.0684\n",
            "===============================================================================\n",
            "\n"
          ],
          "name": "stdout"
        }
      ]
    },
    {
      "cell_type": "code",
      "metadata": {
        "id": "QfU9bqmhr3-J",
        "colab_type": "code",
        "colab": {}
      },
      "source": [
        "selected_columns=['dsport', 'proto', 'state', 'dbytes', 'sttl', 'dttl', 'dloss', 'Dload',\n",
        "                  'Spkts', 'swin', 'dmeansz', 'Djit', 'Dintpkt', 'synack',\n",
        "                  'ct_state_ttl', 'ct_srv_dst',\n",
        "                  'ct_dst_sport_ltm', 'ct_dst_src_ltm', 'dstiploc_AU', 'dstiploc_KP']\n",
        "\n",
        "X_train=X_train[selected_columns]\n",
        "X_valid=X_valid[selected_columns]\n",
        "\n",
        "logisticRegression_model=sm.Logit(y_train,X_train)\n",
        "logisticRegression=logisticRegression_model.fit()\n",
        "print(logisticRegression.summary2())"
      ],
      "execution_count": 0,
      "outputs": []
    },
    {
      "cell_type": "code",
      "metadata": {
        "id": "eLbtzl4hsfpU",
        "colab_type": "code",
        "colab": {
          "base_uri": "https://localhost:8080/",
          "height": 1000
        },
        "outputId": "0fc63fbf-7b9b-4a64-e474-28f43ff13051"
      },
      "source": [
        "logisticRegression_model = LogisticRegression(solver='saga',max_iter=500,warm_start=True,n_jobs=-1,verbose=2)\n",
        "logisticRegression = logisticRegression_model.fit(X_train, y_train)\n",
        "joblib.dump(logisticRegression, 'logisticRegression.sav')\n",
        "\n",
        "predict(logisticRegression, X_valid, y_valid)"
      ],
      "execution_count": 38,
      "outputs": [
        {
          "output_type": "stream",
          "text": [
            "[Parallel(n_jobs=-1)]: Using backend ThreadingBackend with 4 concurrent workers.\n"
          ],
          "name": "stderr"
        },
        {
          "output_type": "stream",
          "text": [
            "max_iter reached after 220 seconds\n"
          ],
          "name": "stdout"
        },
        {
          "output_type": "stream",
          "text": [
            "/usr/local/lib/python3.6/dist-packages/sklearn/linear_model/sag.py:337: ConvergenceWarning: The max_iter was reached which means the coef_ did not converge\n",
            "  \"the coef_ did not converge\", ConvergenceWarning)\n",
            "[Parallel(n_jobs=-1)]: Done   1 out of   1 | elapsed:  3.7min finished\n"
          ],
          "name": "stderr"
        },
        {
          "output_type": "stream",
          "text": [
            "Accuracy: 72.16%\n",
            "\n",
            "Classification Report\n",
            "               precision    recall  f1-score   support\n",
            "\n",
            "           0       1.00      0.71      0.83    677769\n",
            "           1       0.10      1.00      0.19     22215\n",
            "\n",
            "    accuracy                           0.72    699984\n",
            "   macro avg       0.55      0.86      0.51    699984\n",
            "weighted avg       0.97      0.72      0.81    699984\n",
            "\n",
            "\n",
            "\n",
            "Confusion-matrix\n",
            " Predicted Species       0       1\n",
            "Actual Species                   \n",
            "0                  482878  194891\n",
            "1                      18   22197\n",
            "\n",
            "\n",
            "ROC-AUC: 0.9853100872798509\n",
            "\n"
          ],
          "name": "stdout"
        },
        {
          "output_type": "display_data",
          "data": {
            "image/png": "[encoded data removed]",
            "text/plain": [
              "<Figure size 1080x576 with 1 Axes>"
            ]
          },
          "metadata": {
            "tags": []
          }
        }
      ]
    },
    {
      "cell_type": "code",
      "metadata": {
        "id": "eOmWdoCflhkT",
        "colab_type": "code",
        "colab": {}
      },
      "source": [
        "#KNN_model = KNeighborsClassifier(algorithm='auto',n_neighbors=8,n_jobs=-1,p=1,metric='manhattan')\n",
        "#KNN = KNN_model.fit(X_train, y_train)\n",
        "\n",
        "#predict(KNN, X_valid, y_valid)"
      ],
      "execution_count": 0,
      "outputs": []
    },
    {
      "cell_type": "code",
      "metadata": {
        "id": "SeOb8m5V0uTx",
        "colab_type": "code",
        "outputId": "dfddf8ca-65b1-4000-e003-3f691ff8c635",
        "colab": {
          "base_uri": "https://localhost:8080/",
          "height": 119
        }
      },
      "source": [
        "n_estimators = [int(x) for x in np.linspace(start = 10, stop = 100, num = 10)]\n",
        "max_features = ['auto', 'sqrt', 'log2']\n",
        "max_depth = [int(x) for x in np.linspace(10, 100, num = 10)]\n",
        "max_depth.append(None)\n",
        "min_samples_split = [5, 10, 15, 20]\n",
        "min_samples_leaf = [2, 4, 6, 8, 10]\n",
        "bootstrap = [True, False]\n",
        "\n",
        "random_grid = {'n_estimators': n_estimators,\n",
        "               'max_features': max_features,\n",
        "               'max_depth': max_depth,\n",
        "               'min_samples_split': min_samples_split,\n",
        "               'min_samples_leaf': min_samples_leaf,\n",
        "               'bootstrap': bootstrap}\n",
        "\n",
        "pprint(random_grid)"
      ],
      "execution_count": 13,
      "outputs": [
        {
          "output_type": "stream",
          "text": [
            "{'bootstrap': [True, False],\n",
            " 'max_depth': [10, 20, 30, 40, 50, 60, 70, 80, 90, 100, None],\n",
            " 'max_features': ['auto', 'sqrt', 'log2'],\n",
            " 'min_samples_leaf': [2, 4, 6, 8, 10],\n",
            " 'min_samples_split': [5, 10, 15, 20],\n",
            " 'n_estimators': [10, 20, 30, 40, 50, 60, 70, 80, 90, 100]}\n"
          ],
          "name": "stdout"
        }
      ]
    },
    {
      "cell_type": "code",
      "metadata": {
        "id": "yagSL6Jk4uiR",
        "colab_type": "code",
        "colab": {}
      },
      "source": [
        "model = RandomForestClassifier()\n",
        "random_search = RandomizedSearchCV(estimator = model, param_distributions = random_grid, n_iter = 5, cv = 10, n_jobs=-1, verbose = 2)\n",
        "randomRorest_randomSearch = random_search.fit(X_train, y_train)\n",
        "joblib.dump(randomRorest_randomSearch, 'randomForest_randomSearch.sav')\n",
        "\n",
        "pprint(randomRorest_randomSearch.best_params_)\n",
        "\n",
        "predict(randomRorest_randomSearch, X_valid, y_valid)"
      ],
      "execution_count": 0,
      "outputs": []
    },
    {
      "cell_type": "code",
      "metadata": {
        "id": "e5Nr03FFBtWJ",
        "colab_type": "code",
        "colab": {}
      },
      "source": [
        "params = {'n_estimators': [130,150],\n",
        "          'max_features': ['log2'],\n",
        "          'max_depth': [130,150],\n",
        "          'min_samples_split': [8,10],\n",
        "          'min_samples_leaf': [5],\n",
        "          'bootstrap': [False]}\n",
        "\n",
        "model = RandomForestClassifier()\n",
        "grid_search = GridSearchCV(estimator = model, param_grid = params, cv = 3, n_jobs=-1, verbose = 2)\n",
        "randomRorest_gridSearch = grid_search.fit(X_train, y_train)\n",
        "joblib.dump(randomRorest_gridSearch, 'randomForest_gridSearch.sav')\n",
        "\n",
        "pprint(randomRorest_gridSearch.best_params_)\n",
        "\n",
        "predict(randomRorest_gridSearch, X_valid, y_valid)"
      ],
      "execution_count": 0,
      "outputs": []
    },
    {
      "cell_type": "code",
      "metadata": {
        "id": "AACLgHmi-CaM",
        "colab_type": "code",
        "colab": {}
      },
      "source": [
        "model = RandomForestClassifier(n_estimators=110,max_features='log2',max_depth=120,min_samples_split=8,min_samples_leaf=5,bootstrap=False,n_jobs=-1)\n",
        "randomForest_basic = model.fit(X_train, y_train)\n",
        "joblib.dump(randomForest_basic, 'randomForest_basic.sav')\n",
        "\n",
        "predict(randomForest_basic, X_valid, y_valid)"
      ],
      "execution_count": 0,
      "outputs": []
    },
    {
      "cell_type": "code",
      "metadata": {
        "id": "I_rBA6267PeS",
        "colab_type": "code",
        "colab": {}
      },
      "source": [
        "randomForest = RandomForestClassifier(class_weight=class_weights, n_estimators=len(Counter(Y)), criterion='entropy', random_state=0, n_jobs=len(Counter(Y)), max_depth=None, bootstrap=False, n_jobs=-1)\n",
        "\n",
        "selected_features = SelectFromModel(randomForest)\n",
        "selected_features.fit(X_train, y_train)\n",
        "\n",
        "features = X_train.columns[(selected_features.get_support())]\n",
        "print(\"Selected features: {}\".format(features))\n",
        "\n",
        "X_train_important_features = selected_features.transform(X_train)\n",
        "X_test_important_features = selected_features.transform(X_test)"
      ],
      "execution_count": 0,
      "outputs": []
    },
    {
      "cell_type": "code",
      "metadata": {
        "id": "1fPQzlSBikjc",
        "colab_type": "code",
        "colab": {
          "base_uri": "https://localhost:8080/",
          "height": 909
        },
        "outputId": "82fbf036-399a-4a49-ef91-7e43f4a47834"
      },
      "source": [
        "decisionTree_model = DecisionTreeClassifier(max_features='auto')\n",
        "decisionTree = decisionTree_model.fit(X_train, y_train)\n",
        "joblib.dump(decisionTree, 'decisionTree.sav')\n",
        "\n",
        "predict(decisionTree, X_valid, y_valid)"
      ],
      "execution_count": 44,
      "outputs": [
        {
          "output_type": "stream",
          "text": [
            "Accuracy: 97.10%\n",
            "\n",
            "Classification Report\n",
            "               precision    recall  f1-score   support\n",
            "\n",
            "           0       0.97      1.00      0.99    677769\n",
            "           1       0.70      0.15      0.25     22215\n",
            "\n",
            "    accuracy                           0.97    699984\n",
            "   macro avg       0.84      0.58      0.62    699984\n",
            "weighted avg       0.96      0.97      0.96    699984\n",
            "\n",
            "\n",
            "\n",
            "Confusion-matrix\n",
            " Predicted Species       0     1\n",
            "Actual Species                 \n",
            "0                  676282  1487\n",
            "1                   18780  3435\n",
            "\n",
            "\n",
            "ROC-AUC: 0.5762156451837228\n",
            "\n"
          ],
          "name": "stdout"
        },
        {
          "output_type": "display_data",
          "data": {
            "image/png": "[encoded data removed]",
            "text/plain": [
              "<Figure size 1080x576 with 1 Axes>"
            ]
          },
          "metadata": {
            "tags": []
          }
        }
      ]
    }
  ]
}
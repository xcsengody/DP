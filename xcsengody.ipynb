{
  "nbformat": 4,
  "nbformat_minor": 0,
  "metadata": {
    "colab": {
      "name": "xcsengody.ipynb",
      "provenance": [],
      "private_outputs": true,
      "collapsed_sections": [],
      "include_colab_link": true
    },
    "kernelspec": {
      "name": "python3",
      "display_name": "Python 3"
    },
    "accelerator": "GPU"
  },
  "cells": [
    {
      "cell_type": "markdown",
      "metadata": {
        "id": "view-in-github",
        "colab_type": "text"
      },
      "source": [
        "<a href=\"https://colab.research.google.com/github/xcsengody/DP/blob/master/xcsengody.ipynb\" target=\"_parent\"><img src=\"https://colab.research.google.com/assets/colab-badge.svg\" alt=\"Open In Colab\"/></a>"
      ]
    },
    {
      "cell_type": "code",
      "metadata": {
        "id": "Oc3tIaRJ0xf7",
        "colab_type": "code",
        "colab": {}
      },
      "source": [
        "#from google.colab import files\n",
        "#dataset.to_csv('dataset.csv') "
      ],
      "execution_count": 0,
      "outputs": []
    },
    {
      "cell_type": "code",
      "metadata": {
        "id": "13Yj0oSln9l6",
        "colab_type": "code",
        "colab": {}
      },
      "source": [
        "from google.colab import drive\n",
        "drive.mount('/content/drive',force_remount=True)\n",
        "root='/content/drive/My Drive'"
      ],
      "execution_count": 0,
      "outputs": []
    },
    {
      "cell_type": "code",
      "metadata": {
        "id": "JFOnjNLslWnV",
        "colab_type": "code",
        "colab": {}
      },
      "source": [
        "#!pip -q install folium==0.2.1;\n",
        "#!pip -q install ip2geotools;\n",
        "!pip -q install geoip2;"
      ],
      "execution_count": 0,
      "outputs": []
    },
    {
      "cell_type": "code",
      "metadata": {
        "id": "7D50L7obLyI0",
        "colab_type": "code",
        "colab": {}
      },
      "source": [
        "import pandas as pd\n",
        "import numpy as np\n",
        "import matplotlib.pyplot as plt \n",
        "import re\n",
        "import os\n",
        "import sys\n",
        "import seaborn as sns\n",
        "import pylab as pl\n",
        "import geoip2.database\n",
        "from scipy import stats\n",
        "from pylab import rcParams"
      ],
      "execution_count": 0,
      "outputs": []
    },
    {
      "cell_type": "code",
      "metadata": {
        "id": "MbA6KfTCTV-z",
        "colab_type": "code",
        "colab": {}
      },
      "source": [
        "pd.set_option('display.max_rows', 500);\n",
        "rcParams['figure.figsize'] = 15, 8;"
      ],
      "execution_count": 0,
      "outputs": []
    },
    {
      "cell_type": "code",
      "metadata": {
        "id": "ide4KzDYliJA",
        "colab_type": "code",
        "colab": {}
      },
      "source": [
        "path = root+'/DP/GeoLite2-Country.mmdb';\n",
        "reader=geoip2.database.Reader(path);"
      ],
      "execution_count": 0,
      "outputs": []
    },
    {
      "cell_type": "code",
      "metadata": {
        "id": "QEcmpF8znTNv",
        "colab_type": "code",
        "colab": {}
      },
      "source": [
        "path = root+\"/DP/Dataset/NUSW-NB15_features.csv\";\n",
        "df = pd.read_csv(path, delimiter=',', encoding='unicode_escape', low_memory=False, skipinitialspace=True, skip_blank_lines=True, verbose=True);"
      ],
      "execution_count": 0,
      "outputs": []
    },
    {
      "cell_type": "code",
      "metadata": {
        "id": "l4E1NCnZodhw",
        "colab_type": "code",
        "colab": {}
      },
      "source": [
        "features = df.Name"
      ],
      "execution_count": 0,
      "outputs": []
    },
    {
      "cell_type": "code",
      "metadata": {
        "id": "3Ifounsbo3U1",
        "colab_type": "code",
        "colab": {}
      },
      "source": [
        "path = root+\"/DP/Dataset/UNSW-NB15_1.csv\";\n",
        "dataset = pd.read_csv(path, delimiter=',', names=features, encoding='utf-8', low_memory=False, skipinitialspace=True, skip_blank_lines=True, verbose=True);"
      ],
      "execution_count": 0,
      "outputs": []
    },
    {
      "cell_type": "code",
      "metadata": {
        "id": "U5RY-F34j7BU",
        "colab_type": "code",
        "colab": {}
      },
      "source": [
        "path = root+\"/DP/Dataset/dataset.csv\";\n",
        "#dataset = pd.read_csv(path, index=False, delimiter=',', encoding='utf-8', low_memory=False, skipinitialspace=True, skip_blank_lines=True, verbose=True);\n",
        "del dataset[\"Unnamed: 0\"]"
      ],
      "execution_count": 0,
      "outputs": []
    },
    {
      "cell_type": "code",
      "metadata": {
        "id": "H05KlsJESSSI",
        "colab_type": "code",
        "colab": {}
      },
      "source": [
        "print(\"Number of rows: {}\\nNumber of features: {}\".format(dataset.shape[0],dataset.shape[1]))"
      ],
      "execution_count": 0,
      "outputs": []
    },
    {
      "cell_type": "code",
      "metadata": {
        "id": "IZ82ef3VTRMa",
        "colab_type": "code",
        "colab": {}
      },
      "source": [
        "print(\"NaN columns {}\".format(dataset.columns[dataset.isna().any()].tolist()))"
      ],
      "execution_count": 0,
      "outputs": []
    },
    {
      "cell_type": "code",
      "metadata": {
        "id": "s5zjEL0KT8aA",
        "colab_type": "code",
        "colab": {}
      },
      "source": [
        "dataset.attack_cat = dataset.attack_cat.fillna('Normal')"
      ],
      "execution_count": 0,
      "outputs": []
    },
    {
      "cell_type": "code",
      "metadata": {
        "id": "m5mp_2BQ3yM1",
        "colab_type": "code",
        "colab": {}
      },
      "source": [
        "dataset = dataset[dataset.state.apply(lambda x: x != 'no')]"
      ],
      "execution_count": 0,
      "outputs": []
    },
    {
      "cell_type": "code",
      "metadata": {
        "id": "mvq6cSnIXcf8",
        "colab_type": "code",
        "colab": {}
      },
      "source": [
        "dataset.service = dataset.service.replace(to_replace =\"-\", value =\"NUSER\");"
      ],
      "execution_count": 0,
      "outputs": []
    },
    {
      "cell_type": "code",
      "metadata": {
        "id": "f-E8pC8VZy_8",
        "colab_type": "code",
        "colab": {}
      },
      "source": [
        "dataset = dataset[dataset.sport.apply(lambda x: x != '-')]"
      ],
      "execution_count": 0,
      "outputs": []
    },
    {
      "cell_type": "code",
      "metadata": {
        "id": "94-wpcHZaEnI",
        "colab_type": "code",
        "colab": {}
      },
      "source": [
        "dataset = dataset[dataset.dsport.apply(lambda x: x != '-')]"
      ],
      "execution_count": 0,
      "outputs": []
    },
    {
      "cell_type": "code",
      "metadata": {
        "id": "lmPupMIvXdsN",
        "colab_type": "code",
        "colab": {}
      },
      "source": [
        "dataset.sport = dataset.sport.apply(lambda x: int(x,16) if re.search('0x.*', x) else x)"
      ],
      "execution_count": 0,
      "outputs": []
    },
    {
      "cell_type": "code",
      "metadata": {
        "id": "sN63w7B6BhoW",
        "colab_type": "code",
        "colab": {}
      },
      "source": [
        "dataset.dsport = dataset.dsport.apply(lambda x: int(x,16) if re.search('0x.*', x) else x)"
      ],
      "execution_count": 0,
      "outputs": []
    },
    {
      "cell_type": "code",
      "metadata": {
        "id": "DRmmVAXhPRhs",
        "colab_type": "code",
        "colab": {}
      },
      "source": [
        "dataset = dataset[dataset.sport.apply(lambda x: int(x) <= 65535)]\n",
        "dataset = dataset[dataset.dsport.apply(lambda x: int(x) <= 65535)]"
      ],
      "execution_count": 0,
      "outputs": []
    },
    {
      "cell_type": "code",
      "metadata": {
        "id": "xJNvB7lbCJDJ",
        "colab_type": "code",
        "colab": {}
      },
      "source": [
        "dataset = dataset[dataset.dur.apply(lambda x: float(x) < 8000)]"
      ],
      "execution_count": 0,
      "outputs": []
    },
    {
      "cell_type": "code",
      "metadata": {
        "id": "DWjKjcEbiKNs",
        "colab_type": "code",
        "colab": {}
      },
      "source": [
        "dataset.sport.astype(int).max()"
      ],
      "execution_count": 0,
      "outputs": []
    },
    {
      "cell_type": "code",
      "metadata": {
        "id": "4TXAq2n6P3a8",
        "colab_type": "code",
        "colab": {}
      },
      "source": [
        "dataset.attack_cat.value_counts()"
      ],
      "execution_count": 0,
      "outputs": []
    },
    {
      "cell_type": "code",
      "metadata": {
        "id": "bZ5PUFwUP521",
        "colab_type": "code",
        "colab": {}
      },
      "source": [
        "dataset.state.value_counts()"
      ],
      "execution_count": 0,
      "outputs": []
    },
    {
      "cell_type": "code",
      "metadata": {
        "id": "R2YBv6sNP8Dl",
        "colab_type": "code",
        "colab": {}
      },
      "source": [
        "dataset.service.value_counts()"
      ],
      "execution_count": 0,
      "outputs": []
    },
    {
      "cell_type": "code",
      "metadata": {
        "id": "WLnLl326zze_",
        "colab_type": "code",
        "colab": {}
      },
      "source": [
        "dataset.shape"
      ],
      "execution_count": 0,
      "outputs": []
    },
    {
      "cell_type": "code",
      "metadata": {
        "id": "3Gxo3dTBkcWe",
        "colab_type": "code",
        "colab": {}
      },
      "source": [
        "dataset.head()"
      ],
      "execution_count": 0,
      "outputs": []
    },
    {
      "cell_type": "code",
      "metadata": {
        "id": "2ZE1Y4Ldlezo",
        "colab_type": "code",
        "colab": {}
      },
      "source": [
        "dataset[dataset.sloss].columns.value"
      ],
      "execution_count": 0,
      "outputs": []
    },
    {
      "cell_type": "code",
      "metadata": {
        "id": "zX_LaQzHs6Y5",
        "colab_type": "code",
        "colab": {}
      },
      "source": [
        ""
      ],
      "execution_count": 0,
      "outputs": []
    },
    {
      "cell_type": "code",
      "metadata": {
        "id": "bC_HZ8Dfrbd0",
        "colab_type": "code",
        "colab": {}
      },
      "source": [
        "plt.figure()\n",
        "fig,ax = plt.subplots()\n",
        "\n",
        "x=dataset.index.astype(int);\n",
        "y=dataset.sloss;\n",
        "mean=[np.mean(y)]*len(x);\n",
        "\n",
        "data_line = ax.scatter(x, y, label='Data', marker='o', color=\"lightblue\");\n",
        "mean = ax.plot(x, mean, label='Mean', linestyle='--', color=\"red\");\n",
        "legend = ax.legend(loc='upper right');\n",
        "plt.title(\"sloss\");\n",
        "\n",
        "plt.show()"
      ],
      "execution_count": 0,
      "outputs": []
    },
    {
      "cell_type": "code",
      "metadata": {
        "id": "MsVMOBNflAAd",
        "colab_type": "code",
        "colab": {}
      },
      "source": [
        "test=dataset[dataset.sttl.apply(lambda x: x>30 and x<50)]\n",
        "print(test.shape)\n",
        "print(test[test.Label.apply(lambda x: x==0)].shape)\n",
        "print(test[test.Label.apply(lambda x: x==1)].shape)"
      ],
      "execution_count": 0,
      "outputs": []
    },
    {
      "cell_type": "code",
      "metadata": {
        "id": "a38D9uJqoTF9",
        "colab_type": "code",
        "colab": {}
      },
      "source": [
        "#sbytes,dbytes and sloss,dloss are in corelation (probably - check it out). All the records are attacs and due to that can not be removed.\n",
        "\n",
        "#Data normalization should be applied to sttl, dttl\n",
        "#"
      ],
      "execution_count": 0,
      "outputs": []
    },
    {
      "cell_type": "code",
      "metadata": {
        "id": "m45QMHO-QN9u",
        "colab_type": "code",
        "colab": {}
      },
      "source": [
        "plt.figure()\n",
        "plt.scatter(dataset.index.astype(int), dataset.sttl, color='green')\n",
        "plt.show()"
      ],
      "execution_count": 0,
      "outputs": []
    },
    {
      "cell_type": "code",
      "metadata": {
        "id": "5RB3yQ2JltlC",
        "colab_type": "code",
        "colab": {}
      },
      "source": [
        "plt.figure()\n",
        "plt.scatter(dataset.index.astype(int), dataset.dttl, color='green', marker='o')\n",
        "plt.show()"
      ],
      "execution_count": 0,
      "outputs": []
    },
    {
      "cell_type": "code",
      "metadata": {
        "id": "ElAouleeFzTs",
        "colab_type": "code",
        "colab": {}
      },
      "source": [
        "#corrmat = dataset.corr()\n",
        "#top_corr_features = corrmat.index\n",
        "#pl.figure(figsize=(30,30))\n",
        "#g=sns.heatmap(dataset[top_corr_features].corr(method='pearson', min_periods=1),annot=True,cmap=\"RdYlGn\")"
      ],
      "execution_count": 0,
      "outputs": []
    },
    {
      "cell_type": "code",
      "metadata": {
        "id": "U8W0OVUsHKxM",
        "colab_type": "code",
        "colab": {}
      },
      "source": [
        "#dataset.proto.value_counts().plot(kind='bar', title='Histogram protokolov')\n",
        "\n",
        "#counts = dataset.proto.value_counts()\n",
        "#all_values = dataset.shape[0]\n",
        "#perc = counts / all_values\n",
        "#print(perc)"
      ],
      "execution_count": 0,
      "outputs": []
    },
    {
      "cell_type": "code",
      "metadata": {
        "id": "Jxdl_qlDDy8X",
        "colab_type": "code",
        "colab": {}
      },
      "source": [
        "def portType(x):\n",
        "  #Ports range:\n",
        "  #Well known: 0-1023 (1)\n",
        "  #Registered: 1024-49151 (2)\n",
        "  #Private: 49152-65535 (3)\n",
        "  if x >= 0 and x < 1024:\n",
        "    return 1;\n",
        "  elif x >= 1024 and x < 49152:\n",
        "    return 2;\n",
        "  elif x >= 49152 and x < 65536:\n",
        "    return 3;\n",
        "\n",
        "def isPrivateIP(x):\n",
        "  #192.168.0.0 - 192.168.255.255\n",
        "  #172.16.0.0 - 172.31.255.255\n",
        "  #10.0.0.0 - 10.255.255.255\n",
        "  if (re.search('192\\.168\\.(25[0-5]|2[0-4][0-9]|1[0-9][0-9]|[1-9]?[0-9])\\.(25[0-5]|2[0-4][0-9]|1[0-9][0-9]|[1-9]?[0-9])',x)) or (re.search('172\\.16|31\\.(25[0-5]|2[0-4][0-9]|1[0-9][0-9]|[1-9]?[0-9])\\.(25[0-5]|2[0-4][0-9]|1[0-9][0-9]|[1-9]?[0-9])',x)) or (re.search('10\\.(25[0-5]|2[0-4][0-9]|1[0-9][0-9]|[1-9]?[0-9])\\.(25[0-5]|2[0-4][0-9]|1[0-9][0-9]|[1-9]?[0-9])\\.(25[0-5]|2[0-4][0-9]|1[0-9][0-9]|[1-9]?[0-9])',x)) or (re.search('127\\.(25[0-5]|2[0-4][0-9]|1[0-9][0-9]|[1-9]?[0-9])\\.(25[0-5]|2[0-4][0-9]|1[0-9][0-9]|[1-9]?[0-9])\\.(25[0-5]|2[0-4][0-9]|1[0-9][0-9]|[1-9]?[0-9])',x)):\n",
        "    return True\n",
        "  else:\n",
        "    return False\n",
        "\n",
        "def isLocalhostIP(x):\n",
        "  #127.0.0.0 - 10.255.255.255\n",
        "  if (re.search('127\\.(25[0-5]|2[0-4][0-9]|1[0-9][0-9]|[1-9]?[0-9])\\.(25[0-5]|2[0-4][0-9]|1[0-9][0-9]|[1-9]?[0-9])\\.(25[0-5]|2[0-4][0-9]|1[0-9][0-9]|[1-9]?[0-9])',x)):\n",
        "    return True\n",
        "  else:\n",
        "    return False\n",
        "\n",
        "def isMulticastIP(x):\n",
        "  if (re.search('22[4-9]|23[0-9]\\.(25[0-5]|2[0-4][0-9]|1[0-9][0-9]|[1-9]?[0-9])\\.(25[0-5]|2[0-4][0-9]|1[0-9][0-9]|[1-9]?[0-9])\\.(25[0-5]|2[0-4][0-9]|1[0-9][0-9]|[1-9]?[0-9])',x)):\n",
        "    return True\n",
        "  else:\n",
        "    return False\n",
        "\n",
        "def getIPLocation(ip):\n",
        "  try:\n",
        "    location=reader.country(ip);\n",
        "    return location.country.names['en']+\" (\"+location.country.iso_code+\")\";\n",
        "  except:\n",
        "    if isPrivateIP(ip):\n",
        "      return \"Private\";\n",
        "    elif isLocalhostIP(ip):\n",
        "      return \"Localhost\";\n",
        "    elif isMulticastIP(ip):\n",
        "      return \"Multicast\"; \n",
        "\n",
        "def closeReader():\n",
        "  reader.close();"
      ],
      "execution_count": 0,
      "outputs": []
    },
    {
      "cell_type": "code",
      "metadata": {
        "id": "JmzirzsFpeAB",
        "colab_type": "code",
        "colab": {}
      },
      "source": [
        "#dataset.insert(1, \"srciploc\",\"\")\n",
        "#dataset.insert(4, \"dstiploc\",\"\")\n",
        "\n",
        "#dataset.srciploc=dataset.srcip.apply(lambda x: getIPLocation(x));\n",
        "#dataset.dstiploc=dataset.dstip.apply(lambda x: getIPLocation(x));\n",
        "\n",
        "#dataset=dataset.reset_index();\n",
        "#dataset=dataset.set_index('index');\n",
        "\n",
        "#attack_traffic=dataset[dataset.Label.apply(lambda x: x==1)]\n",
        "#normal_traffic=dataset[dataset.Label.apply(lambda x: x==0)]"
      ],
      "execution_count": 0,
      "outputs": []
    },
    {
      "cell_type": "code",
      "metadata": {
        "id": "JTnIQmgdkwvq",
        "colab_type": "code",
        "colab": {}
      },
      "source": [
        "#attack_traffic.srciploc=attack_traffic.srcip.apply(lambda x: getIPLocation(x));\n",
        "#attack_traffic.dstiploc=attack_traffic.dstip.apply(lambda x: getIPLocation(x));\n",
        "#normal_traffic.srciploc=normal_traffic.srcip.apply(lambda x: getIPLocation(x));\n",
        "#normal_traffic.dstiploc=normal_traffic.dstip.apply(lambda x: getIPLocation(x));\n",
        "#closeReader();"
      ],
      "execution_count": 0,
      "outputs": []
    },
    {
      "cell_type": "code",
      "metadata": {
        "id": "T7onIdJAMZXG",
        "colab_type": "code",
        "colab": {}
      },
      "source": [
        "dataset.groupby(['attack_cat']).size().reset_index(name='counts').sort_values(by='counts', ascending=False)"
      ],
      "execution_count": 0,
      "outputs": []
    },
    {
      "cell_type": "code",
      "metadata": {
        "id": "L07TvHdoQnLS",
        "colab_type": "code",
        "colab": {}
      },
      "source": [
        "dataset.shape[1]\n",
        "\n",
        "ohe_srcip = pd.get_dummies(dataset.srcip,prefix='scrip')\n",
        "dataset = pd.concat([dataset, ohe_srcip], axis=1)\n",
        "#dataset = dataset.drop(columns=['protocol_type'])"
      ],
      "execution_count": 0,
      "outputs": []
    },
    {
      "cell_type": "code",
      "metadata": {
        "id": "xwgSHkV5RQsR",
        "colab_type": "code",
        "colab": {}
      },
      "source": [
        "dataset.shape[1]"
      ],
      "execution_count": 0,
      "outputs": []
    }
  ]
}
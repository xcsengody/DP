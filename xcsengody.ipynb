{
  "nbformat": 4,
  "nbformat_minor": 0,
  "metadata": {
    "colab": {
      "name": "xcsengody.ipynb",
      "provenance": [],
      "private_outputs": true,
      "collapsed_sections": [],
      "include_colab_link": true
    },
    "kernelspec": {
      "name": "python3",
      "display_name": "Python 3"
    },
    "accelerator": "GPU"
  },
  "cells": [
    {
      "cell_type": "markdown",
      "metadata": {
        "id": "view-in-github",
        "colab_type": "text"
      },
      "source": [
        "<a href=\"https://colab.research.google.com/github/xcsengody/DP/blob/master/xcsengody.ipynb\" target=\"_parent\"><img src=\"https://colab.research.google.com/assets/colab-badge.svg\" alt=\"Open In Colab\"/></a>"
      ]
    },
    {
      "cell_type": "code",
      "metadata": {
        "id": "13Yj0oSln9l6",
        "colab_type": "code",
        "colab": {}
      },
      "source": [
        "from google.colab import drive\n",
        "drive.mount('/content/drive')"
      ],
      "execution_count": 0,
      "outputs": []
    },
    {
      "cell_type": "code",
      "metadata": {
        "id": "7D50L7obLyI0",
        "colab_type": "code",
        "colab": {}
      },
      "source": [
        "import pandas as pd\n",
        "import numpy as np\n",
        "import matplotlib.pyplot as plt \n",
        "import re"
      ],
      "execution_count": 0,
      "outputs": []
    },
    {
      "cell_type": "code",
      "metadata": {
        "id": "MbA6KfTCTV-z",
        "colab_type": "code",
        "colab": {}
      },
      "source": [
        " pd.set_option(\"display.max_rows\", 1000)"
      ],
      "execution_count": 0,
      "outputs": []
    },
    {
      "cell_type": "code",
      "metadata": {
        "id": "QEcmpF8znTNv",
        "colab_type": "code",
        "colab": {}
      },
      "source": [
        "path = \"/content/drive/My Drive/DP/Dataset/NUSW-NB15_features.csv\";\n",
        "df = pd.read_csv(path, delimiter=',', encoding='unicode_escape', low_memory=False, skipinitialspace=True, skip_blank_lines=True, verbose=True);"
      ],
      "execution_count": 0,
      "outputs": []
    },
    {
      "cell_type": "code",
      "metadata": {
        "id": "l4E1NCnZodhw",
        "colab_type": "code",
        "colab": {}
      },
      "source": [
        "features = df.Name"
      ],
      "execution_count": 0,
      "outputs": []
    },
    {
      "cell_type": "code",
      "metadata": {
        "id": "3Ifounsbo3U1",
        "colab_type": "code",
        "colab": {}
      },
      "source": [
        "path = \"/content/drive/My Drive/DP/Dataset/UNSW-NB15_1.csv\";\n",
        "dataset = pd.read_csv(path, delimiter=',', names=features, encoding='utf-8', low_memory=False, skipinitialspace=True, skip_blank_lines=True, verbose=True);"
      ],
      "execution_count": 0,
      "outputs": []
    },
    {
      "cell_type": "code",
      "metadata": {
        "id": "H05KlsJESSSI",
        "colab_type": "code",
        "colab": {}
      },
      "source": [
        "print(\"Number of rows: {}\\nNumber of features: {}\".format(dataset.shape[0],dataset.shape[1]))"
      ],
      "execution_count": 0,
      "outputs": []
    },
    {
      "cell_type": "code",
      "metadata": {
        "id": "IZ82ef3VTRMa",
        "colab_type": "code",
        "colab": {}
      },
      "source": [
        "print(\"NaN columns {}\".format(dataset.columns[dataset.isna().any()].tolist()))"
      ],
      "execution_count": 0,
      "outputs": []
    },
    {
      "cell_type": "code",
      "metadata": {
        "id": "s5zjEL0KT8aA",
        "colab_type": "code",
        "colab": {}
      },
      "source": [
        "dataset.attack_cat = dataset.attack_cat.fillna('Normal')"
      ],
      "execution_count": 0,
      "outputs": []
    },
    {
      "cell_type": "code",
      "metadata": {
        "id": "whJgAVqA4Xmu",
        "colab_type": "code",
        "colab": {}
      },
      "source": [
        "dataset.attack_cat.value_counts()"
      ],
      "execution_count": 0,
      "outputs": []
    },
    {
      "cell_type": "code",
      "metadata": {
        "id": "kOwsxVMU1Zde",
        "colab_type": "code",
        "colab": {}
      },
      "source": [
        "dataset.state.value_counts()"
      ],
      "execution_count": 0,
      "outputs": []
    },
    {
      "cell_type": "code",
      "metadata": {
        "id": "IR1c3G0DUP_E",
        "colab_type": "code",
        "colab": {}
      },
      "source": [
        "#dataset.loc[dataset.state == 'no']\n",
        "#dataset.state.replace(to_replace =\"no\", value =\"NSTA\", inplace=True) "
      ],
      "execution_count": 0,
      "outputs": []
    },
    {
      "cell_type": "code",
      "metadata": {
        "id": "t07wYRGS1jmj",
        "colab_type": "code",
        "colab": {}
      },
      "source": [
        "dataset = dataset.drop(45818)\n",
        "dataset = dataset.drop(45819)"
      ],
      "execution_count": 0,
      "outputs": []
    },
    {
      "cell_type": "code",
      "metadata": {
        "id": "2RKNtgNV2DVu",
        "colab_type": "code",
        "colab": {}
      },
      "source": [
        "dataset.service.value_counts()"
      ],
      "execution_count": 0,
      "outputs": []
    },
    {
      "cell_type": "code",
      "metadata": {
        "id": "mvq6cSnIXcf8",
        "colab_type": "code",
        "colab": {}
      },
      "source": [
        "#dataset.loc[dataset.service == '-']\n",
        "dataset.service = dataset.service.replace(to_replace =\"-\", value =\"NUSER\") "
      ],
      "execution_count": 0,
      "outputs": []
    },
    {
      "cell_type": "code",
      "metadata": {
        "id": "FH8Jdg6j2dMM",
        "colab_type": "code",
        "colab": {}
      },
      "source": [
        "dataset.sport.value_counts()"
      ],
      "execution_count": 0,
      "outputs": []
    },
    {
      "cell_type": "code",
      "metadata": {
        "id": "f-E8pC8VZy_8",
        "colab_type": "code",
        "colab": {}
      },
      "source": [
        "#dataset.loc[dataset.sport == '-']\n",
        "#dataset.sport.replace(to_replace =\"-\", value =\"0\", inplace=True) "
      ],
      "execution_count": 0,
      "outputs": []
    },
    {
      "cell_type": "code",
      "metadata": {
        "id": "QDqPExsa3C6h",
        "colab_type": "code",
        "colab": {}
      },
      "source": [
        "dataset = dataset.drop(82531)\n",
        "dataset = dataset.drop(143351)"
      ],
      "execution_count": 0,
      "outputs": []
    },
    {
      "cell_type": "code",
      "metadata": {
        "id": "94-wpcHZaEnI",
        "colab_type": "code",
        "colab": {}
      },
      "source": [
        "#dataset.loc[dataset.dsport == '-']\n",
        "#dataset.dsport.replace(to_replace =\"-\", value =\"0\", inplace=True) "
      ],
      "execution_count": 0,
      "outputs": []
    },
    {
      "cell_type": "code",
      "metadata": {
        "id": "corE6Oi24B_n",
        "colab_type": "code",
        "colab": {}
      },
      "source": [
        "dataset = dataset.drop(36372)\n",
        "dataset = dataset.drop(45816)\n",
        "dataset = dataset.drop(47316)\n",
        "dataset = dataset.drop(72914)\n",
        "dataset = dataset.drop(116472)\n",
        "dataset = dataset.drop(139328)"
      ],
      "execution_count": 0,
      "outputs": []
    },
    {
      "cell_type": "code",
      "metadata": {
        "id": "ksvGxBiYifse",
        "colab_type": "code",
        "colab": {}
      },
      "source": [
        "#dataset.loc[dataset.sport.str.contains('0x.*')]"
      ],
      "execution_count": 0,
      "outputs": []
    },
    {
      "cell_type": "code",
      "metadata": {
        "id": "lmPupMIvXdsN",
        "colab_type": "code",
        "colab": {}
      },
      "source": [
        "dataset.sport=dataset.sport.apply(lambda x: int(x,16) if re.search('0x.*', x) else x)"
      ],
      "execution_count": 0,
      "outputs": []
    },
    {
      "cell_type": "code",
      "metadata": {
        "id": "_Uf9HF2NuN5F",
        "colab_type": "code",
        "colab": {}
      },
      "source": [
        "dataset.dsport=dataset.dsport.apply(lambda x: int(x,16) if re.search('0x.*', x) else x)"
      ],
      "execution_count": 0,
      "outputs": []
    },
    {
      "cell_type": "code",
      "metadata": {
        "id": "h93GvaxevCAh",
        "colab_type": "code",
        "colab": {}
      },
      "source": [
        "#dataset[dataset.dsport.astype(int) > 65535]\n",
        "dataset = dataset.drop(82532)"
      ],
      "execution_count": 0,
      "outputs": []
    },
    {
      "cell_type": "code",
      "metadata": {
        "id": "SqIhemoXF96b",
        "colab_type": "code",
        "colab": {}
      },
      "source": [
        "#dataset.loc[dataset.dur.astype(float) > 8786]\n",
        "dataset = dataset.drop(687664)\n",
        "dataset = dataset.drop(687665)"
      ],
      "execution_count": 0,
      "outputs": []
    },
    {
      "cell_type": "code",
      "metadata": {
        "id": "Hx72Hq4c8l_e",
        "colab_type": "code",
        "colab": {}
      },
      "source": [
        "dataset=dataset.reset_index();\n",
        "dataset=dataset.set_index('index');"
      ],
      "execution_count": 0,
      "outputs": []
    },
    {
      "cell_type": "code",
      "metadata": {
        "id": "V5Xma2M76loK",
        "colab_type": "code",
        "colab": {}
      },
      "source": [
        "#plt.figure()\n",
        "#plt.scatter(dataset.index.astype(int), dataset.sport.astype(int), color='green', marker='o')\n",
        "#plt.show()"
      ],
      "execution_count": 0,
      "outputs": []
    }
  ]
}
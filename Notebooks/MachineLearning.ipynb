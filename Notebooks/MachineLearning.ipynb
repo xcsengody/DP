{
  "nbformat": 4,
  "nbformat_minor": 0,
  "metadata": {
    "colab": {
      "name": "MachineLearning.ipynb",
      "provenance": [],
      "collapsed_sections": [],
      "machine_shape": "hm",
      "include_colab_link": true
    },
    "kernelspec": {
      "name": "python3",
      "display_name": "Python 3"
    },
    "accelerator": "TPU"
  },
  "cells": [
    {
      "cell_type": "markdown",
      "metadata": {
        "id": "view-in-github",
        "colab_type": "text"
      },
      "source": [
        "<a href=\"https://colab.research.google.com/github/xcsengody/DP/blob/master/MachineLearning.ipynb\" target=\"_parent\"><img src=\"https://colab.research.google.com/assets/colab-badge.svg\" alt=\"Open In Colab\"/></a>"
      ]
    },
    {
      "cell_type": "code",
      "metadata": {
        "id": "1aL060N1V6xA",
        "colab_type": "code",
        "colab": {}
      },
      "source": [
        "!pip -q install parfit\n",
        "\n",
        "import sys\n",
        "from google.colab import drive\n",
        "\n",
        "drive.mount('/content/drive',force_remount=True)\n",
        "sys.path.append('/content/drive/My Drive')\n",
        "sys.path.append('/content/drive/My Drive/Colab Notebooks/Notebooks')\n",
        "\n",
        "from lib.Config import *\n",
        "from lib.MachineLearningController import *\n",
        "\n",
        "def saveDocument(fileName):\n",
        "  !jupyter nbconvert --log-level 0 --output {fileName} --output-dir='drive/My Drive/Colab Notebooks/Documents' \"drive/My Drive/Colab Notebooks/Notebooks/MachineLearningController.ipynb\"\n",
        "  print(\"File saved to .../Colab Notebooks/Documents/{}.html\".format(fileName))"
      ],
      "execution_count": 0,
      "outputs": []
    },
    {
      "cell_type": "code",
      "metadata": {
        "id": "IS3Q3zwe5nie",
        "colab_type": "code",
        "outputId": "701ee1cc-1e1d-4aee-ec27-24fa872c0730",
        "colab": {
          "base_uri": "https://localhost:8080/",
          "height": 153
        }
      },
      "source": [
        "datasets_to_load=['dataset_1.csv','dataset_2.csv','dataset_3.csv','dataset_4.csv']\n",
        "loadPreprocessedDatasets(datasets_to_load)"
      ],
      "execution_count": 0,
      "outputs": [
        {
          "output_type": "stream",
          "text": [
            "Datasets:\n",
            "dataset_1\n",
            "dataset_2\n",
            "dataset_3\n",
            "dataset_4\n",
            "\n",
            "To access dataset use datasets['datasetName']\n",
            "\n"
          ],
          "name": "stdout"
        }
      ]
    },
    {
      "cell_type": "code",
      "metadata": {
        "id": "naANf-nKAnrL",
        "colab_type": "code",
        "outputId": "8195cdba-4680-476a-bada-af0dbae4b767",
        "colab": {
          "base_uri": "https://localhost:8080/",
          "height": 221
        }
      },
      "source": [
        "getDatasetDimensions(datasets['dataset_1'])\n",
        "getDatasetDimensions(datasets['dataset_2'])\n",
        "getDatasetDimensions(datasets['dataset_3'])\n",
        "getDatasetDimensions(datasets['dataset_4'])"
      ],
      "execution_count": 0,
      "outputs": [
        {
          "output_type": "stream",
          "text": [
            "Rows: 699984\n",
            "Columns: 50\n",
            "\n",
            "Rows: 699999\n",
            "Columns: 50\n",
            "\n",
            "Rows: 699999\n",
            "Columns: 50\n",
            "\n",
            "Rows: 440042\n",
            "Columns: 50\n",
            "\n"
          ],
          "name": "stdout"
        }
      ]
    },
    {
      "cell_type": "code",
      "metadata": {
        "id": "OBXlM08GxEt4",
        "colab_type": "code",
        "outputId": "695810b0-5e8c-4a00-929f-fb7021cc5a5a",
        "colab": {
          "base_uri": "https://localhost:8080/",
          "height": 85
        }
      },
      "source": [
        "dataset = mergeDatasets([datasets['dataset_3'],datasets['dataset_4']])\n",
        "X_train, y_train, X_valid, y_valid, X_test, y_test = splitDataset(dataset)"
      ],
      "execution_count": 0,
      "outputs": [
        {
          "output_type": "stream",
          "text": [
            "Train set size: 729625\n",
            "Validation set size: 182407\n",
            "Test set size: 228009\n",
            "\n"
          ],
          "name": "stdout"
        }
      ]
    },
    {
      "cell_type": "code",
      "metadata": {
        "id": "cZggFhRX4Jvw",
        "colab_type": "code",
        "colab": {}
      },
      "source": [
        "analyzeDataset(dataset)\n",
        "getCorelationMatrix(X_train)"
      ],
      "execution_count": 0,
      "outputs": []
    },
    {
      "cell_type": "code",
      "metadata": {
        "id": "KSs6lIrJoKUV",
        "colab_type": "code",
        "colab": {}
      },
      "source": [
        "# ---> Logistic Regression <---"
      ],
      "execution_count": 0,
      "outputs": []
    },
    {
      "cell_type": "code",
      "metadata": {
        "id": "9Sxnzc9MnweE",
        "colab_type": "code",
        "colab": {}
      },
      "source": [
        "logisticRegression_model = LogisticRegression()\n",
        "rfe = RFE(logisticRegression_model, n_features_to_select=None, step=8, verbose=2)\n",
        "logisticRegression = rfe.fit(X_train, y_train)\n",
        "\n",
        "selected_columns=[]\n",
        "columns = X_train.columns\n",
        "ranked_columns = rfe.support_\n",
        "\n",
        "for i in range(len(ranked_columns)):\n",
        "  if ranked_columns[i] == True:\n",
        "    selected_columns.append(columns[i])\n",
        "\n",
        "X_train_logreg=X_train[selected_columns]\n",
        "\n",
        "logisticRegression_model=sm.Logit(y_train,X_train_logreg)\n",
        "logisticRegression=logisticRegression_model.fit()\n",
        "print(logisticRegression.summary2())"
      ],
      "execution_count": 0,
      "outputs": []
    },
    {
      "cell_type": "code",
      "metadata": {
        "id": "QfU9bqmhr3-J",
        "colab_type": "code",
        "colab": {}
      },
      "source": [
        "selected_columns=['srcip',\n",
        "                  'dstip',\n",
        "                  'dsport',\n",
        "                  'proto',\n",
        "                  'state',\n",
        "                  'dbytes',\n",
        "                  'sttl',\n",
        "                  'dttl',\n",
        "                  'sloss',\n",
        "                  'dloss',\n",
        "                  'Dload',\n",
        "                  'Spkts',\n",
        "                  'Dpkts',\n",
        "                  'swin',\n",
        "                  'dmeansz',\n",
        "                  'tcprtt',\n",
        "                  'synack',\n",
        "                  'ackdat',\n",
        "                  'ct_state_ttl',\n",
        "                  'is_ftp_login',\n",
        "                  'ct_srv_src',\n",
        "                  'ct_srv_dst',\n",
        "                  'ct_dst_sport_ltm',\n",
        "                  'ct_dst_src_ltm']\n",
        "                  \n",
        "X_train_logreg=X_train[selected_columns]\n",
        "\n",
        "logisticRegression_model=sm.Logit(y_train,X_train_logreg)\n",
        "logisticRegression=logisticRegression_model.fit()\n",
        "print(logisticRegression.summary2())"
      ],
      "execution_count": 0,
      "outputs": []
    },
    {
      "cell_type": "code",
      "metadata": {
        "id": "ytG45C_Cn2s8",
        "colab_type": "code",
        "colab": {}
      },
      "source": [
        "params = {'penalty': ['l2'],\n",
        "         'dual': [False],\n",
        "         'C':[.009,0.01,.09,1,5],\n",
        "         'solver': ['lbfgs','saga'],\n",
        "         'max_iter': [100,500],\n",
        "         'multi_class': ['ovr','auto'],\n",
        "         'warm_start': [True,False]}\n",
        "\n",
        "logisticRegression_model = LogisticRegression()\n",
        "logisticRegression_gridSearch = GridSearchCV(logisticRegression_model, param_grid = params, cv = 10, n_jobs=-1, verbose=2)\n",
        "logisticRegression_gridSearch = logisticRegression_gridSearch.fit(X_train, y_train)\n",
        "\n",
        "pprint(logisticRegression_gridSearch.best_params_)"
      ],
      "execution_count": 0,
      "outputs": []
    },
    {
      "cell_type": "code",
      "metadata": {
        "id": "eLbtzl4hsfpU",
        "colab_type": "code",
        "colab": {}
      },
      "source": [
        "'''\n",
        "{'C': 5,\n",
        " 'dual': False,\n",
        " 'max_iter': 500,\n",
        " 'multi_class': 'ovr',\n",
        " 'penalty': 'l2',\n",
        " 'solver': 'lbfgs',\n",
        " 'warm_start': True}\n",
        "'''\n",
        "\n",
        "logisticRegression_model = LogisticRegression(solver='lbfgs',penalty='l2',multi_class='ovr',C=5,max_iter=500,warm_start=True,dual=False,n_jobs=-1,verbose=2)\n",
        "selectTopFeatures=False;\n",
        "\n",
        "if selectTopFeatures:\n",
        "  X_train_logreg=X_train[selected_columns]\n",
        "  X_test_logreg=X_test[selected_columns]\n",
        "  X_valid_logreg=X_valid[selected_columns]\n",
        "\n",
        "  logisticRegression_selectedFeatures = logisticRegression_model.fit(X_train_logreg, y_train)\n",
        "  predict(logisticRegression_selectedFeatures, X_test_logreg, y_test,\"Test set prediction\")\n",
        "  predict(logisticRegression_selectedFeatures, X_valid_logreg, y_valid,\"Validation set prediction\")\n",
        "\n",
        "  saveModel(logisticRegression_selectedFeatures,'logisticRegression_selectedFeatures')\n",
        "else:\n",
        "  logisticRegression = logisticRegression_model.fit(X_train, y_train)\n",
        "  predict(logisticRegression, X_test, y_test,\"Test set prediction\")\n",
        "  predict(logisticRegression, X_valid, y_valid,\"Validation set prediction\")\n",
        "\n",
        "  saveModel(logisticRegression,'logisticRegression')"
      ],
      "execution_count": 0,
      "outputs": []
    },
    {
      "cell_type": "code",
      "metadata": {
        "id": "jX12nN83oGyW",
        "colab_type": "code",
        "colab": {}
      },
      "source": [
        "# ---> SCV <---"
      ],
      "execution_count": 0,
      "outputs": []
    },
    {
      "cell_type": "code",
      "metadata": {
        "id": "gkzL1zHK71EZ",
        "colab_type": "code",
        "colab": {}
      },
      "source": [
        "grid = {'alpha': [1e-2, 1e-1, 1e0, 1e1, 1e2],\n",
        "        'max_iter': [500],\n",
        "        'loss': ['log', 'modified_huber', 'squared_hinge', 'perceptron'],\n",
        "        'learning_rate': ['constant', 'invscaling', 'adaptive'],\n",
        "        'eta0': [0.2],\n",
        "        'fit_intercept': [True,False],\n",
        "        'shuffle': [True,False],\n",
        "        'early_stopping': [True,False],\n",
        "        'penalty': ['l2','elasticnet'],\n",
        "        'n_jobs': [-1]}\n",
        "\n",
        "paramGrid = ParameterGrid(grid)\n",
        "SGDClassifier_model = linear_model.SGDClassifier()\n",
        "bestModel, bestScore, allModels, allScores = pf.bestFit(SGDClassifier_model, paramGrid,\n",
        "                                                        X_train, y_train, X_valid, y_valid, \n",
        "                                                        metric = roc_auc_score, scoreLabel = 'AUC')\n",
        "\n",
        "print(bestModel, bestScore)"
      ],
      "execution_count": 0,
      "outputs": []
    },
    {
      "cell_type": "code",
      "metadata": {
        "id": "oOCNwDRO5kjF",
        "colab_type": "code",
        "colab": {}
      },
      "source": [
        "SGDClassifier_model = linear_model.SGDClassifier(alpha=0.01, average=False, class_weight=None, early_stopping=True,\n",
        "              epsilon=0.1, eta0=0.2, fit_intercept=True, l1_ratio=0.15,\n",
        "              learning_rate='invscaling', loss='log', max_iter=500,\n",
        "              n_iter_no_change=5, n_jobs=-1, penalty='elasticnet', power_t=0.5,\n",
        "              random_state=None, shuffle=True, tol=0.001,\n",
        "              validation_fraction=0.1, verbose=0, warm_start=False)\n",
        "\n",
        "SGDClassifier_model = linear_model.SGDClassifier(alpha=0.01, average=False, class_weight=None,\n",
        "              early_stopping=False, epsilon=0.1, eta0=0.2, fit_intercept=True,\n",
        "              l1_ratio=0.15, learning_rate='adaptive', loss='modified_huber',\n",
        "              max_iter=500, n_iter_no_change=5, n_jobs=-1, penalty='l2',\n",
        "              power_t=0.5, random_state=None, shuffle=False, tol=0.001,\n",
        "              validation_fraction=0.1, verbose=0, warm_start=False)\n",
        "\n",
        "selectTopFeatures=True;\n",
        "\n",
        "if selectTopFeatures:\n",
        "  feature_map_nystroem = Nystroem(random_state=0,n_components=10)\n",
        "  X_train_svc = feature_map_nystroem.fit_transform(X_train)\n",
        "  X_test_svc = feature_map_nystroem.fit_transform(X_test)\n",
        "  X_valid_svc = feature_map_nystroem.fit_transform(X_valid)\n",
        "\n",
        "  SGDClassifier = SGDClassifier_model.fit(X_train_svc, y_train)\n",
        "  predict(SGDClassifier, X_test_svc, y_test,\"Test set prediction\")\n",
        "  predict(SGDClassifier, X_valid_svc, y_valid,\"Validation set prediction\")\n",
        "else:\n",
        "  SGDClassifier = SGDClassifier_model.fit(X_train, y_train)\n",
        "  predict(SGDClassifier, X_test, y_test,\"Test set prediction\")\n",
        "  predict(SGDClassifier, X_valid, y_valid,\"Validation set prediction\")"
      ],
      "execution_count": 0,
      "outputs": []
    },
    {
      "cell_type": "code",
      "metadata": {
        "id": "bp-Uzu0SoPGn",
        "colab_type": "code",
        "colab": {}
      },
      "source": [
        "# ---> Decision Tree <---"
      ],
      "execution_count": 0,
      "outputs": []
    },
    {
      "cell_type": "code",
      "metadata": {
        "id": "ixrfiFUfjFU3",
        "colab_type": "code",
        "colab": {}
      },
      "source": [
        "decisionTree_model = DecisionTreeClassifier(max_features='auto')\n",
        "decisionTree = decisionTree_model.fit(X_train, y_train)\n",
        "\n",
        "predict(decisionTree, X_test, y_test,\"Test set prediction\")\n",
        "predict(decisionTree, X_valid, y_valid,\"Validation set prediction\")\n",
        "\n",
        "saveModel(decisionTree,'decisionTree')"
      ],
      "execution_count": 0,
      "outputs": []
    },
    {
      "cell_type": "code",
      "metadata": {
        "id": "lHP6KLjgjuvP",
        "colab_type": "code",
        "colab": {}
      },
      "source": [
        "# ---> Random Forest <---"
      ],
      "execution_count": 0,
      "outputs": []
    },
    {
      "cell_type": "code",
      "metadata": {
        "id": "SeOb8m5V0uTx",
        "colab_type": "code",
        "colab": {}
      },
      "source": [
        "n_estimators = [int(x) for x in np.linspace(start = 10, stop = 100, num = 10)]\n",
        "max_features = ['auto', 'sqrt', 'log2']\n",
        "max_depth = [int(x) for x in np.linspace(10, 100, num = 10)]\n",
        "max_depth.append(None)\n",
        "min_samples_split = [5, 10, 15, 20]\n",
        "min_samples_leaf = [2, 4, 6, 8, 10]\n",
        "bootstrap = [True, False]\n",
        "\n",
        "random_grid = {'n_estimators': n_estimators,\n",
        "               'max_features': max_features,\n",
        "               'max_depth': max_depth,\n",
        "               'min_samples_split': min_samples_split,\n",
        "               'min_samples_leaf': min_samples_leaf,\n",
        "               'bootstrap': bootstrap}\n",
        "\n",
        "model = RandomForestClassifier()\n",
        "random_search = RandomizedSearchCV(estimator = model, param_distributions = random_grid, n_iter = 10, cv = 10, n_jobs=-1, verbose = 2)\n",
        "randomForest_randomSearch = random_search.fit(X_train, y_train)\n",
        "\n",
        "pprint(randomForest_randomSearch.best_params_)\n",
        "predict(randomForest_randomSearch, X_test, y_test,\"Test set prediction\")\n",
        "predict(randomForest_randomSearch, X_valid, y_valid,\"Validation set prediction\")"
      ],
      "execution_count": 0,
      "outputs": []
    },
    {
      "cell_type": "code",
      "metadata": {
        "id": "e5Nr03FFBtWJ",
        "colab_type": "code",
        "colab": {}
      },
      "source": [
        "params = {'n_estimators': [130,150],\n",
        "          'max_features': ['log2'],\n",
        "          'max_depth': [130,150],\n",
        "          'min_samples_split': [8,10],\n",
        "          'min_samples_leaf': [5],\n",
        "          'bootstrap': [False]}\n",
        "\n",
        "params = {'bootstrap': [False],\n",
        "          'max_depth': [None],\n",
        "          'max_features': ['auto'],\n",
        "          'min_samples_leaf': [5,6,7],\n",
        "          'min_samples_split': [11,13,15],\n",
        "          'n_estimators': [50,70,90]}\n",
        "\n",
        "model = RandomForestClassifier()\n",
        "grid_search = GridSearchCV(estimator = model, param_grid = params, cv = 3, n_jobs=-1, verbose = 2)\n",
        "randomForest_gridSearch = grid_search.fit(X_train, y_train)\n",
        "\n",
        "pprint(randomForest_gridSearch.best_params_)\n",
        "predict(randomForest_gridSearch, X_test, y_test,\"Test set prediction\")\n",
        "predict(randomForest_gridSearch, X_valid, y_valid,\"Validation set prediction\")"
      ],
      "execution_count": 0,
      "outputs": []
    },
    {
      "cell_type": "code",
      "metadata": {
        "id": "AACLgHmi-CaM",
        "colab_type": "code",
        "outputId": "fc37b965-b208-42dd-cde4-6798e66369d0",
        "colab": {
          "base_uri": "https://localhost:8080/",
          "height": 1000
        }
      },
      "source": [
        "#randomForestModel = RandomForestClassifier(n_estimators=110,max_features='log2',max_depth=120,min_samples_split=8,min_samples_leaf=5,bootstrap=False,n_jobs=-1)\n",
        "randomForestModel = RandomForestClassifier(n_estimators=70,max_features='auto',max_depth=None,min_samples_split=11,min_samples_leaf=5,bootstrap=False,n_jobs=-1)\n",
        "\n",
        "selectTopFeatures=True;\n",
        "\n",
        "if selectTopFeatures:\n",
        "  selected_features = SelectFromModel(randomForestModel)\n",
        "  selected_features.fit(X_train, y_train)\n",
        "  features = X_train.columns[(selected_features.get_support())]\n",
        "  X_train_randForest = selected_features.transform(X_train)\n",
        "  X_test_randForest = selected_features.transform(X_test)\n",
        "  X_valid_randForest = selected_features.transform(X_valid)\n",
        "\n",
        "  print(\"Selected features: {}\".format(features))\n",
        "\n",
        "  randomForest = randomForestModel.fit(X_train_randForest, y_train)\n",
        "  predict(randomForest, X_test_randForest, y_test,\"Test set prediction\")\n",
        "  predict(randomForest, X_valid_randForest, y_valid,\"Validation set prediction\")\n",
        "\n",
        "  saveModel(randomForest,'randomForest_selectedFeatures')\n",
        "else:\n",
        "  randomForest = randomForestModel.fit(X_train, y_train)\n",
        "  joblib.dump(randomForest, 'randomForest.sav')\n",
        "  predict(randomForest, X_test, y_test,\"Test set prediction\")\n",
        "  predict(randomForest, X_valid, y_valid,\"Validation set prediction\")\n",
        "\n",
        "  saveModel(randomForest,'randomForest')"
      ],
      "execution_count": 0,
      "outputs": [
        {
          "output_type": "stream",
          "text": [
            "Selected features: Index(['srcip', 'dstip', 'sbytes', 'sttl', 'Sload', 'Dload', 'Dpkts',\n",
            "       'smeansz', 'dmeansz', 'ct_state_ttl'],\n",
            "      dtype='object')\n",
            "\n",
            "\n",
            "Test set prediction\n",
            "\n",
            "\n",
            "Accuracy: 98.98%\n",
            "\n",
            "\n",
            "Classification Report\n",
            "               precision    recall  f1-score   support\n",
            "\n",
            "           0       0.99      0.99      0.99    178654\n",
            "           1       0.98      0.98      0.98     49355\n",
            "\n",
            "    accuracy                           0.99    228009\n",
            "   macro avg       0.98      0.98      0.98    228009\n",
            "weighted avg       0.99      0.99      0.99    228009\n",
            "\n",
            "\n",
            "\n",
            "Confusion-matrix\n",
            " Predicted Species       0      1\n",
            "Actual Species                  \n",
            "0                  177494   1160\n",
            "1                    1177  48178\n",
            "\n",
            "\n",
            "ROC-AUC: 0.9995859769006687\n",
            "\n"
          ],
          "name": "stdout"
        },
        {
          "output_type": "display_data",
          "data": {
            "image/png": "[encoded data removed]",
            "text/plain": [
              "<Figure size 1080x576 with 1 Axes>"
            ]
          },
          "metadata": {
            "tags": []
          }
        },
        {
          "output_type": "stream",
          "text": [
            "\n",
            "\n",
            "\n",
            "\n",
            "Validation set prediction\n",
            "\n",
            "\n",
            "Accuracy: 98.98%\n",
            "\n",
            "\n",
            "Classification Report\n",
            "               precision    recall  f1-score   support\n",
            "\n",
            "           0       0.99      0.99      0.99    142863\n",
            "           1       0.98      0.98      0.98     39544\n",
            "\n",
            "    accuracy                           0.99    182407\n",
            "   macro avg       0.99      0.98      0.98    182407\n",
            "weighted avg       0.99      0.99      0.99    182407\n",
            "\n",
            "\n",
            "\n",
            "Confusion-matrix\n",
            " Predicted Species       0      1\n",
            "Actual Species                  \n",
            "0                  141948    915\n",
            "1                     953  38591\n",
            "\n",
            "\n",
            "ROC-AUC: 0.999589500481603\n",
            "\n"
          ],
          "name": "stdout"
        },
        {
          "output_type": "display_data",
          "data": {
            "image/png": "[encoded data removed]",
            "text/plain": [
              "<Figure size 1080x576 with 1 Axes>"
            ]
          },
          "metadata": {
            "tags": []
          }
        },
        {
          "output_type": "stream",
          "text": [
            "\n",
            "\n",
            "Model saved to .../Colab Notebooks/MachineLearningModels/randomForest_selectedFeatures.sav\n",
            "\n"
          ],
          "name": "stdout"
        }
      ]
    },
    {
      "cell_type": "code",
      "metadata": {
        "id": "fw-g-RvOXayB",
        "colab_type": "code",
        "colab": {}
      },
      "source": [
        "'''\n",
        "# KNN\n",
        "\n",
        "error = []\n",
        "range_form = 1\n",
        "range_to = 20\n",
        "\n",
        "for i in range(range_form, range_to):\n",
        "  KNN = KNeighborsClassifier(n_neighbors=i)\n",
        "  print(\"Set KNN\")\n",
        "  KNN.fit(X_train, y_train)\n",
        "  print(\"Fitted KNN\")\n",
        "  pred_i = KNN.predict(X_test)\n",
        "  print(\"Prediction: .lf%%\" % pred_i)\n",
        "  error.append(np.mean(pred_i != y_test))\n",
        "\n",
        "plt.plot(range(1, 2), error, color='green', marker='o', markerfacecolor='orange', markersize=10)\n",
        "plt.title('Error Rate K Value')\n",
        "plt.xlabel('K Value')\n",
        "plt.ylabel('Mean Error')\n",
        "\n",
        "KNN = KNeighborsClassifier(n_neighbors=???)\n",
        "clf = KNN.fit(X_train, y_train)\n",
        "\n",
        "predict(clf, X_train, y_train, X_test, y_test)\n",
        "'''"
      ],
      "execution_count": 0,
      "outputs": []
    }
  ]
}
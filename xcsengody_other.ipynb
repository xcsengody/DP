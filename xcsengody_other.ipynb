{
  "nbformat": 4,
  "nbformat_minor": 0,
  "metadata": {
    "colab": {
      "name": "xcsengody_other.ipynb",
      "provenance": [],
      "collapsed_sections": [],
      "include_colab_link": true
    },
    "kernelspec": {
      "name": "python3",
      "display_name": "Python 3"
    }
  },
  "cells": [
    {
      "cell_type": "markdown",
      "metadata": {
        "id": "view-in-github",
        "colab_type": "text"
      },
      "source": [
        "<a href=\"https://colab.research.google.com/github/xcsengody/DP/blob/master/xcsengody_other.ipynb\" target=\"_parent\"><img src=\"https://colab.research.google.com/assets/colab-badge.svg\" alt=\"Open In Colab\"/></a>"
      ]
    },
    {
      "cell_type": "code",
      "metadata": {
        "id": "Te-CvwE04VuW",
        "colab_type": "code",
        "colab": {}
      },
      "source": [
        "# Resampling\n",
        "\n",
        "X = dataset_train.drop('attack_cat', axis=1)\n",
        "Y = dataset_train.attack_cat\n",
        "\n",
        "print(\"Original dataset categories shape {}\".format(sorted(Counter(Y).items())))\n",
        "\n",
        "pipe = make_pipeline(SMOTE(sampling_strategy='auto',random_state=0,n_jobs=5), ADASYN(sampling_strategy='auto',random_state=0,n_jobs=5))\n",
        "X_resampled, Y_resampled = pipe.fit_resample(X,Y)\n",
        "\n",
        "X_resampled_df = pd.DataFrame(X_resampled, columns=X.columns)\n",
        "resampled_dataset = X_resampled_df.assign(attack_cat=pd.Series(Y_resampled))\n",
        "\n",
        "print(\"Resampled dataset categories shape {}\".format(sorted(Counter(Y_resampled).items())))\n",
        "print(\"Resampled dataset size: {}\".format(resampled_dataset.shape[0]))"
      ],
      "execution_count": 0,
      "outputs": []
    },
    {
      "cell_type": "code",
      "metadata": {
        "id": "sj8Pe6Kf4fTC",
        "colab_type": "code",
        "colab": {}
      },
      "source": [
        "# KNN\n",
        "\n",
        "error = []\n",
        "range_form = 1\n",
        "range_to = 20\n",
        "\n",
        "for i in range(range_form, range_to):\n",
        "  KNN = KNeighborsClassifier(n_neighbors=i)\n",
        "  print(\"Set KNN\")\n",
        "  KNN.fit(X_train, y_train)\n",
        "  print(\"Fitted KNN\")\n",
        "  pred_i = KNN.predict(X_test)\n",
        "  print(\"Prediction: .lf%%\" % pred_i)\n",
        "  error.append(np.mean(pred_i != y_test))\n",
        "\n",
        "plt.plot(range(1, 2), error, color='green', marker='o', markerfacecolor='orange', markersize=10)\n",
        "plt.title('Error Rate K Value')\n",
        "plt.xlabel('K Value')\n",
        "plt.ylabel('Mean Error')\n",
        "\n",
        "KNN = KNeighborsClassifier(n_neighbors=???)\n",
        "clf = KNN.fit(X_train, y_train)\n",
        "\n",
        "predict(clf, X_train, y_train, X_test, y_test)"
      ],
      "execution_count": 0,
      "outputs": []
    },
    {
      "cell_type": "code",
      "metadata": {
        "id": "2GEnCisk4wh7",
        "colab_type": "code",
        "colab": {}
      },
      "source": [
        "# Decision Tree\n",
        "\n",
        "decisionTree = DecisionTreeClassifier(criterion='entropy', random_state=0)\n",
        "clf = decisionTree.fit(X_train, y_train)\n",
        "\n",
        "predict(clf, X_train, y_train, X_valid, y_valid)"
      ],
      "execution_count": 0,
      "outputs": []
    }
  ]
}